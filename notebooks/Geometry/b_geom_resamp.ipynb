{
 "cells": [
  {
   "cell_type": "markdown",
   "id": "e65a8c21",
   "metadata": {},
   "source": [
    "# Resampler Demo"
   ]
  },
  {
   "cell_type": "markdown",
   "id": "d69f3304",
   "metadata": {},
   "source": [
    "Authors: David Atkinson\n",
    "\n",
    "First version: 20 June 2021\n",
    "\n",
    "CCP SyneRBI Synergistic Image Reconstruction Framework (SIRF).\n",
    "Copyright 2021 University College London.\n",
    "\n",
    "This is software developed for the Collaborative Computational Project in Synergistic Reconstruction for Biomedical Imaging (http://www.ccpsynerbi.ac.uk/).\n",
    "Licensed under the Apache License, Version 2.0 (the \"License\"); you may not use this file except in compliance with the License. You may obtain a copy of the License at http://www.apache.org/licenses/LICENSE-2.0 Unless required by applicable law or agreed to in writing, software distributed under the License is distributed on an \"AS IS\" BASIS, WITHOUT WARRANTIES OR CONDITIONS OF ANY KIND, either express or implied. See the License for the specific language governing permissions and limitations under the License."
   ]
  },
  {
   "cell_type": "code",
   "execution_count": null,
   "id": "15c3e6ed",
   "metadata": {},
   "outputs": [],
   "source": [
    "# Setup the working directory for the notebook\n",
    "# (Requires download_data.sh to have been run once before)\n",
    "import notebook_setup\n",
    "from sirf_exercises import cd_to_working_dir\n",
    "cd_to_working_dir('Geometry')"
   ]
  },
  {
   "cell_type": "code",
   "execution_count": null,
   "id": "3dc381b7",
   "metadata": {},
   "outputs": [],
   "source": [
    "# Import required packages\n",
    "import nibabel \n",
    "import matplotlib.pyplot as plt\n",
    "import numpy as np\n",
    "import os\n",
    "\n",
    "import sirf.Reg as Reg"
   ]
  },
  {
   "cell_type": "code",
   "execution_count": null,
   "id": "0e198a02",
   "metadata": {},
   "outputs": [],
   "source": [
    "# Data for geometry notebooks when run is ./nifti/*.nii\n",
    "data_path = os.getcwd()"
   ]
  },
  {
   "cell_type": "markdown",
   "id": "3ec13c21",
   "metadata": {},
   "source": [
    "This demo uses the resampler in SIRF to regrid one scan into the geometry of another. A phantom was scanned with slices in the coronal orientation and again with slices in an oblique orientation, without moving the phantom. \n",
    "In this Notebook, we read and display the NIfTI images using `nibabel`, then read using SIRF and demonstrate a resampling of one into the geometry of the other."
   ]
  },
  {
   "cell_type": "code",
   "execution_count": null,
   "id": "9e5a5bbc",
   "metadata": {},
   "outputs": [],
   "source": [
    "# Set the full file names for the data files\n",
    "fpath  = os.path.join(data_path , 'nifti')\n",
    "fn_cor = \"OBJECT_phantom_T2W_TSE_Cor_14_1.nii\" # Coronal volume, 30 slices\n",
    "fn_obl = \"OBJECT_phantom_T2W_TSE_obl_19_1.nii\"\n",
    "\n",
    "ffn_cor = os.path.join(fpath, fn_cor)  # full file name\n",
    "print(\"Full file name: \", ffn_cor)\n",
    "\n",
    "ffn_obl = os.path.join(fpath, fn_obl)  # full file name\n",
    "print(\"Full file name: \", ffn_obl)"
   ]
  },
  {
   "cell_type": "code",
   "execution_count": null,
   "id": "6e516435",
   "metadata": {},
   "outputs": [],
   "source": [
    "# Read in NIfTIs using nibabel and get the image data\n",
    "n_cor = nibabel.load(ffn_cor)\n",
    "n_obl = nibabel.load(ffn_obl)\n",
    "\n",
    "nad_cor = n_cor.get_fdata()  # NIfTI image array data\n",
    "nad_obl = n_obl.get_fdata()  # NIfTI image array data"
   ]
  },
  {
   "cell_type": "code",
   "execution_count": null,
   "id": "c52e2097",
   "metadata": {},
   "outputs": [],
   "source": [
    "# Display a slice from each dataset\n",
    "slc = 15 ;\n",
    "\n",
    "slc_obl = nad_obl[:,:,slc]\n",
    "plt.subplot(1,2,1, title='Oblique')\n",
    "plt.imshow(slc_obl)\n",
    "\n",
    "slc_cor = nad_cor[:,:,slc]\n",
    "plt.subplot(1,2,2, title='Coronal')\n",
    "plt.imshow(slc_cor)\n"
   ]
  },
  {
   "cell_type": "markdown",
   "id": "45c15222",
   "metadata": {},
   "source": [
    "Note distortion is visible in the Oblique scan."
   ]
  },
  {
   "cell_type": "code",
   "execution_count": null,
   "id": "99dc3189",
   "metadata": {},
   "outputs": [],
   "source": [
    "# Now read in using SIRF\n",
    "R_obl = Reg.ImageData(ffn_obl)\n",
    "R_cor = Reg.ImageData(ffn_cor)"
   ]
  },
  {
   "cell_type": "code",
   "execution_count": null,
   "id": "68bfe4a1",
   "metadata": {},
   "outputs": [],
   "source": [
    "# Construct an identity transformation object\n",
    "# We need an identity because we are using the resampler only to resample\n",
    "# and not to apply any additional transformation. \n",
    "\n",
    "tm_identity = np.array([[1,0,0,0],\n",
    "                        [0,1,0,0],\n",
    "                        [0,0,1,0],\n",
    "                        [0,0,0,1]])\n",
    "\n",
    "TM = Reg.AffineTransformation(tm_identity)"
   ]
  },
  {
   "cell_type": "code",
   "execution_count": null,
   "id": "675304d2",
   "metadata": {},
   "outputs": [],
   "source": [
    "# Adapted from Richard Brown's notebook: sirf_registration\n",
    "\n",
    "# Create a resampler and set the reference image to the Coronal object\n",
    "resampler = Reg.NiftyResample()\n",
    "resampler.set_reference_image(R_cor)\n",
    "\n",
    "# Set the floating image to be resampled to the Oblique\n",
    "resampler.set_floating_image(R_obl)\n",
    "\n",
    "# Add the desired transformation (here identity)\n",
    "resampler.add_transformation(TM)\n",
    "resampler.set_padding_value(0)\n",
    "# Use linear interpolation\n",
    "resampler.set_interpolation_type_to_linear()\n",
    "# Go!\n",
    "resampler.process()\n",
    "\n",
    "plt.figure()\n",
    "plt.subplot(1,2,1, title='Oblique resampled to Coronal')\n",
    "plt.imshow(resampler.get_output().as_array()[:,:,slc])\n",
    "plt.subplot(1,2,2, title='Original Coronal')\n",
    "plt.imshow(slc_cor)\n"
   ]
  },
  {
   "cell_type": "markdown",
   "id": "dd3a28db",
   "metadata": {},
   "source": [
    "The images are not identical - so is this correct? The regions where there are missing sections are OK because that part of the data was never in the oblique scan. The rectangular region in the circular phantom is a little different. It is hard to tell if this is a small error or because the distortions were different in the scans. (Distortions can be seen in the previous images).\n",
    "The stripes in the resampled image could be an interpolation issue.\n"
   ]
  },
  {
   "cell_type": "markdown",
   "id": "25d0123d",
   "metadata": {},
   "source": [
    "# Reading with sirf.STIR"
   ]
  },
  {
   "cell_type": "markdown",
   "id": "7c72e798",
   "metadata": {},
   "source": [
    "`sirf.STIR` can also read NIfTI files (and DICOM files if STIR was compiled with ITK support). STIR internally uses a gantry-based coordinate system and STIR will re-orient images such that the first dimension corresponds to axial slices. See example below and warnings that when using STIR, data should not be oblique and only for patients with a head-first-supine orientation. "
   ]
  },
  {
   "cell_type": "markdown",
   "id": "d94d6e27",
   "metadata": {},
   "source": [
    "Let's see how reading with `sirf.STIR` works out here."
   ]
  },
  {
   "cell_type": "code",
   "execution_count": null,
   "id": "2b828176",
   "metadata": {},
   "outputs": [],
   "source": [
    "# Most exercises import `sirf.STIR` as `pet`, but here we call it differently as it's used to read MR data...\n",
    "import sirf.STIR as STIR"
   ]
  },
  {
   "cell_type": "code",
   "execution_count": null,
   "id": "203cfa8b",
   "metadata": {},
   "outputs": [],
   "source": [
    "S_cor = STIR.ImageData(ffn_cor)  # The coronal image as a sirf.STIR object"
   ]
  },
  {
   "cell_type": "code",
   "execution_count": null,
   "id": "0a3931cc",
   "metadata": {},
   "outputs": [],
   "source": [
    "# STIR re-sorted the data in a different order\n",
    "print(S_cor.as_array().shape)\n",
    "print(R_cor.as_array().shape)  # The coronal image read above as a sirf.Reg object"
   ]
  },
  {
   "cell_type": "code",
   "execution_count": null,
   "id": "824fd924",
   "metadata": {},
   "outputs": [],
   "source": [
    "print(S_cor.get_geometrical_info().get_info())\n",
    "print(R_cor.get_geometrical_info().get_info())"
   ]
  },
  {
   "cell_type": "code",
   "execution_count": null,
   "id": "e049aef1",
   "metadata": {},
   "outputs": [],
   "source": [
    "# However, it kept track of geometry, so resampling should still work\n",
    "resampler.set_reference_image(R_cor)\n",
    "\n",
    "# Set the \"STIR\" image as the floating image that will be resampled \n",
    "resampler.set_floating_image(S_cor)\n",
    "resampler.process()\n",
    "\n",
    "plt.figure()\n",
    "plt.subplot(1,2,1, title='Coronal read via sirf.STIR')\n",
    "plt.imshow(resampler.get_output().as_array()[:,:,slc])\n",
    "plt.subplot(1,2,2, title='Original Coronal (read using nibabel')\n",
    "plt.imshow(slc_cor)\n"
   ]
  },
  {
   "cell_type": "code",
   "execution_count": null,
   "id": "8623eff6",
   "metadata": {},
   "outputs": [],
   "source": [
    "print(resampler.get_output().get_geometrical_info().get_info())\n",
    "print(R_cor.get_geometrical_info().get_info())"
   ]
  },
  {
   "cell_type": "markdown",
   "id": "7bb9415c",
   "metadata": {},
   "source": [
    "***WARNING***. At present, STIR cannot handle oblique slices. However, it does not complain and silently returns incorrect geometric information. Doing the above with the *oblique* scan will therefore give an **incorrect** result (with STIR 4.*)."
   ]
  },
  {
   "cell_type": "markdown",
   "id": "1014f9db",
   "metadata": {},
   "source": [
    " **WARNING**. To be able to re-orient to gantry coordinates, STIR needs to know the patient position. This is available in DICOM data, but unfortunately not for NIfTI. STIR will therefore **assume that NIfTI images correspond to data acquired in *Head First Supine (HSF)* patient position**, as this is the most common case. This doesn't matter as far as geometry goes (i.e. LPS coordinates will be correct), but does matter when using NIfTI images as input for simulation and reconstruction (as it would \"position\" the patient wrongly)."
   ]
  }
 ],
 "metadata": {
  "kernelspec": {
   "display_name": "Python 3 (ipykernel)",
   "language": "python",
   "name": "python3"
  },
  "language_info": {
   "codemirror_mode": {
    "name": "ipython"
   },
   "file_extension": ".py",
   "mimetype": "text/x-python",
   "name": "python",
   "nbconvert_exporter": "python"
  }
 },
 "nbformat": 4,
 "nbformat_minor": 5
}
