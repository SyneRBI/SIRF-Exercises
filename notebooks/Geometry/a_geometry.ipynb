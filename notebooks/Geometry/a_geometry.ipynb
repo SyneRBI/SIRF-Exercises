{
 "cells": [
  {
   "cell_type": "markdown",
   "id": "94bdaed3",
   "metadata": {},
   "source": [
    "# Geometry in SIRF"
   ]
  },
  {
   "cell_type": "markdown",
   "id": "da4eab04",
   "metadata": {},
   "source": [
    "Authors: David Atkinson\n",
    "\n",
    "First version: 20 June 2021\n",
    "\n",
    "CCP SyneRBI Synergistic Image Reconstruction Framework (SIRF).\n",
    "Copyright 2021 University College London.\n",
    "\n",
    "This is software developed for the Collaborative Computational Project in Synergistic Reconstruction for Biomedical Imaging (http://www.ccpsynerbi.ac.uk/).\n",
    "Licensed under the Apache License, Version 2.0 (the \"License\"); you may not use this file except in compliance with the License. You may obtain a copy of the License at http://www.apache.org/licenses/LICENSE-2.0 Unless required by applicable law or agreed to in writing, software distributed under the License is distributed on an \"AS IS\" BASIS, WITHOUT WARRANTIES OR CONDITIONS OF ANY KIND, either express or implied. See the License for the specific language governing permissions and limitations under the License."
   ]
  },
  {
   "cell_type": "markdown",
   "id": "82d98aea",
   "metadata": {},
   "source": [
    "**Getting Started**\n",
    "\n",
    "Data for the geometry notebooks should be in the notebook folder `nifti`. The nifti data needs to be downloaded once from Zenodo - see the notebook `get_nifti_data` to download the data."
   ]
  },
  {
   "cell_type": "code",
   "execution_count": null,
   "id": "d0887c48",
   "metadata": {},
   "outputs": [],
   "source": [
    "# Setup the working directory for the notebook\n",
    "# (Requires download_data.sh to have been run once before)\n",
    "import notebook_setup\n",
    "from sirf_exercises import cd_to_working_dir\n",
    "cd_to_working_dir('Geometry')"
   ]
  },
  {
   "cell_type": "code",
   "execution_count": null,
   "id": "ba41f421",
   "metadata": {},
   "outputs": [],
   "source": [
    "# Import required packages\n",
    "import nibabel \n",
    "import matplotlib.pyplot as plt\n",
    "import numpy as np\n",
    "import os"
   ]
  },
  {
   "cell_type": "code",
   "execution_count": null,
   "id": "6e0e21c8",
   "metadata": {},
   "outputs": [],
   "source": [
    "# Data for geometry notebooks when run is ./nifti/*.nii\n",
    "data_path = os.getcwd()"
   ]
  },
  {
   "cell_type": "code",
   "execution_count": null,
   "id": "fe84caf1",
   "metadata": {},
   "outputs": [],
   "source": [
    "# Set numpy print options to print small numbers as zero etc.\n",
    "np.set_printoptions(precision=3,suppress=True)"
   ]
  },
  {
   "cell_type": "markdown",
   "id": "9e4ea402",
   "metadata": {},
   "source": [
    "### `imshow` and the image coordinate system"
   ]
  },
  {
   "cell_type": "markdown",
   "id": "1cf97109",
   "metadata": {},
   "source": [
    "In this Notebook, when referring to array elements, we use 'first', 'second' etc with their usual English meaning. In Python, the first array index is 0. To avoid confusion, we do not use the term 'zeroth'."
   ]
  },
  {
   "cell_type": "markdown",
   "id": "980449a7",
   "metadata": {},
   "source": [
    "We use the matplotlib `imshow` command with default options for origin and orientation (this corresponds to MATLAB). `imshow(A)` plots array `A` as an image using the ordering `A[row_number, column_number]`, the first row is at the top of the image, and, pixel centres are at integer positions. The array indices are used as integer image coordinates. The top left pixel centre is at (0,0) when using 0-based Python. "
   ]
  },
  {
   "cell_type": "code",
   "execution_count": null,
   "id": "2fdd7ea2",
   "metadata": {},
   "outputs": [],
   "source": [
    "# Demo of imshow using array with 2 rows and 3 columns.\n",
    "# Note the array indices are mapped to integer image coordinates\n",
    "#  (0,0) is at the centre of the top left pixel\n",
    "\n",
    "testim = [[0, 0.25, 0],\n",
    "          [1, 0.5,  0]]\n",
    "ax = plt.imshow(testim, cmap='gray')"
   ]
  },
  {
   "cell_type": "markdown",
   "id": "4512fdf3",
   "metadata": {},
   "source": [
    "### Placing the image in a 3D Patient Coordinate system"
   ]
  },
  {
   "cell_type": "markdown",
   "id": "f14d49ab",
   "metadata": {},
   "source": [
    "DICOM and SIRF use an LPH+ patient coordinate system. Increasing the value of the first patient coordinate corresponds to moving in the positive Left direction i.e. towards the patient left. Increasing the second moves in the Posterior direction and the third in the Head direction, also known as Superior. \n",
    "\n",
    "In DICOM, the 3D position of an image pixel can be found using DICOM parameters `ImageOrientationPatient`, `ImagePositionPatient` and `PixelSpacing`. In brief, the 3D position can be found using these terms in a vector addition.\n",
    "\n",
    "In SIRF, the 3D position of an array element is given by multiplying an affine matrix __A__ by a coordinate formed from the array indices. This is similar to NIfTI except that NIfTI uses an RAH+ patient coordinate system. It is useful to think of the 3D patient coordinate as determined from array indices and not to imply any direction in either the image or 3D space. SIRF emphasises this by naming the method that provides __A__ as `get_index_to_physical_point_matrix()`. "
   ]
  },
  {
   "cell_type": "markdown",
   "id": "9b7095fc",
   "metadata": {},
   "source": [
    "* Provided the affine matrix __A__ correctly describes the geometry, the image can appear on screen with any orientation.\n",
    "* The affine matrix should be updated to maintain the correct correspondence if the image data is manipulated, for example after cropping or rotating. \n",
    "* It is usually NOT necessary to flip, rotate or permute an image array. An exception would be to get an expected appearance such as radiological presentation (and if you do this, the matrix should also be updated). "
   ]
  },
  {
   "cell_type": "markdown",
   "id": "48141832",
   "metadata": {},
   "source": [
    "![Geometry](SIRF_geom.png \"Geometry\")"
   ]
  },
  {
   "cell_type": "markdown",
   "id": "ea176eaa",
   "metadata": {},
   "source": [
    "Schematic showing the patient LPH+ 3D coordinate system axes and an image in that space. This image could have come from a reconstructed slice through a patient. The 3D patient coordinate __V__ of a point in the image (i,j,k) is given by the upper equation. The top left image pixel is here at image coordinate (0,0,0) with corresponding 3D coordinate __Q__. This corresponds to DICOM `ImagePositionPatient` and NIfTI `offset` (after converting from NIfTI RAH+ to LPH+). Here the image is 2D but given a coordinate with 3rd dimension k. For a single slice out of an image volume, k has the value 0 in the slice pointed to by  `offset`. \n",
    "\n",
    "Homogeneous coordinates (with an extra dimension) are used so that __A__ can include the translational `offset`."
   ]
  },
  {
   "cell_type": "markdown",
   "id": "0c956c32",
   "metadata": {},
   "source": [
    "#### Example using NIfTI\n",
    "The data for this Notebook was acquired using an arrangement of 3 phantoms. The circular phantom was towards the patient Head position, the bigger bottle towards the patient Right and the smaller (Littler) bottle to the patient Left. Scans were acquired at different image orientations without moving the phantoms. Each scan had 30 slices. DICOM and NIfTI files were created by the scanner."
   ]
  },
  {
   "cell_type": "code",
   "execution_count": null,
   "id": "83b23fb7",
   "metadata": {},
   "outputs": [],
   "source": [
    "# Data files are in a folder clled nifti below the main data folder\n",
    "# Set the full file name for the data file\n",
    "fpath  = os.path.join(data_path , 'nifti')\n",
    "fn_cor = \"OBJECT_phantom_T2W_TSE_Cor_14_1.nii\" # Coronal volume, 30 slices\n",
    "\n",
    "ffn = os.path.join(fpath, fn_cor)  # full file name\n",
    "print(\"Full file name: \", ffn)"
   ]
  },
  {
   "cell_type": "code",
   "execution_count": null,
   "id": "f585a7b9",
   "metadata": {},
   "outputs": [],
   "source": [
    "ns = nibabel.load(ffn)\n",
    "# To view NIfTI header parameters when read in using nibabel:\n",
    "# print(ns.header)  or \n",
    "# print(\"NIfTI pixdim:  \",ns.header['pixdim'])\n",
    "\n",
    "nad = ns.get_fdata()  # NIfTI image array data\n",
    "print(\"NIfTI array data shape: \",nad.shape)"
   ]
  },
  {
   "cell_type": "code",
   "execution_count": null,
   "id": "800eadff",
   "metadata": {},
   "outputs": [],
   "source": [
    "slc = 15 ;\n",
    "\n",
    "slc_dat = nad[:,:,slc]\n",
    "plt.imshow(slc_dat, cmap='gray')"
   ]
  },
  {
   "cell_type": "markdown",
   "id": "596dab7f",
   "metadata": {},
   "source": [
    "As displayed, the image is in a non-standard orientation with the circular phantom 'head' on the image West side and the littler bottle (patient left) towards the South. (We use compass directions to avoid confusion between image or patient 'left' and 'right'). Despite this, the affine matrix is correct as we will see next."
   ]
  },
  {
   "cell_type": "code",
   "execution_count": null,
   "id": "1c8e08a5",
   "metadata": {},
   "outputs": [],
   "source": [
    "# nibabel can convert NIfTI header parameters to an affine matrix\n",
    "A_RAH = ns.affine"
   ]
  },
  {
   "cell_type": "markdown",
   "id": "950aee51",
   "metadata": {},
   "source": [
    "NIfTI uses RAH+. To convert to an LPH+ affine matrix, multiply every element of the first two rows of `A_RAH` with -1. "
   ]
  },
  {
   "cell_type": "code",
   "execution_count": null,
   "id": "48d4dd54",
   "metadata": {},
   "outputs": [],
   "source": [
    "RAH2LPH = [[-1, 0, 0, 0 ],\n",
    "           [ 0,-1, 0, 0 ],\n",
    "           [ 0, 0, 1, 0 ],\n",
    "           [ 0, 0, 0, 1 ]]\n",
    "\n",
    "A_LPH = np.matmul(RAH2LPH,A_RAH)\n",
    "print(A_LPH)"
   ]
  },
  {
   "cell_type": "markdown",
   "id": "79fbc30e",
   "metadata": {},
   "source": [
    "Note this affine matrix contains information about the pixel sizes (the scaling on the diagonal), the offset (the right column) and the image orientation.\n",
    "\n",
    "The DICOM representation is useful to understand and is shown in the following figure.\n",
    "\n",
    "![DICOM_summary.png](DICOM_summary.png)\n",
    "\n",
    "Next, find the 3D LPH position of the position of array index [0,0,0]. When using `imshow` as above, this is the centre of the top left pixel and corresponds to the DICOM `ImagePositionPatient` (IPP). \n",
    "Note, in DICOM, there is usually one IPP for each frame (2D image), but here there is one offset for the whole volume."
   ]
  },
  {
   "cell_type": "code",
   "execution_count": null,
   "id": "563b93ee",
   "metadata": {},
   "outputs": [],
   "source": [
    "IPP = np.matmul(A_LPH,[0,0,0,1])  \n",
    "\n",
    "IPP = IPP[0:3]  # remove last element (homogeneous coordinates)\n",
    "\n",
    "print(\"ImagePositionPatient (elements are in the order L P H): \",IPP)"
   ]
  },
  {
   "cell_type": "markdown",
   "id": "46ff260f",
   "metadata": {},
   "source": [
    "The units are mm. The origin is not defined but is at a consistent point in the patient during a scanning session, even if the bed moves. (In DICOM terms, the origin is the same for all scans with the same `FrameOfReferenceUID`.) "
   ]
  },
  {
   "cell_type": "markdown",
   "id": "65e04ca0",
   "metadata": {},
   "source": [
    "In DICOM, the image orientation is specified by `ImageOrientationPatient` (IOP) which is two, 3-element, unit vectors, the first pointing East and the second South. We can find these from the affine matrix by finding vectors from the top left pixel (IPP) to one pixel to the East and one to the South."
   ]
  },
  {
   "cell_type": "code",
   "execution_count": null,
   "id": "8fbfcfeb",
   "metadata": {},
   "outputs": [],
   "source": [
    "IPP_1EAST  = np.matmul(A_LPH, [0,1,0,1]) # one pixel 'east' (next column) \n",
    "IPP_1SOUTH = np.matmul(A_LPH, [1,0,0,1]) # one pixel 'south' (next row down)\n",
    "\n",
    "IPP_1EAST  = IPP_1EAST[0:3]    # remove last element \n",
    "IPP_1SOUTH = IPP_1SOUTH[0:3]\n",
    "\n",
    "# The IPP_*s are 3D coordinates. Find the following vectors:\n",
    "vec_EAST  = IPP_1EAST  - IPP # vector pointing along row to next column\n",
    "vec_SOUTH = IPP_1SOUTH - IPP # vector pointing down column to next row\n",
    "\n",
    "spacing_EAST  = np.linalg.norm(vec_EAST) # vector length (pixel spacing)\n",
    "spacing_SOUTH = np.linalg.norm(vec_SOUTH)\n",
    "\n",
    "print(\"spacing_SOUTH (mm):  \",spacing_SOUTH)\n",
    "print(\"spacing_EAST (mm) :  \",spacing_EAST)\n",
    "\n",
    "# Find the unit vectors corresponding to DICOM ImageOrientationPatient\n",
    "IOP_EAST = np.multiply(vec_EAST,1./spacing_EAST)\n",
    "print(\"IOP_EAST:  \",IOP_EAST)\n",
    "\n",
    "IOP_SOUTH = np.multiply(vec_SOUTH,1./spacing_SOUTH)\n",
    "print(\"IOP_SOUTH: \",IOP_SOUTH)"
   ]
  },
  {
   "cell_type": "markdown",
   "id": "caf38e5f",
   "metadata": {},
   "source": [
    "The IOP_EAST is close to [0 0 -1] (in LPH) meaning that the 'East' direction in the image is almost negative Head, i.e. towards the feet.\n",
    "\n",
    "The IOP_SOUTH is close to [1 0 0] meaning that going down the image points to the patient's Left.\n",
    "\n",
    "These are correct for the image as displayed above."
   ]
  },
  {
   "cell_type": "markdown",
   "id": "4de8c97f",
   "metadata": {},
   "source": [
    "#### SIRF ImageData\n",
    "The above used NIfTI functionality from the `nibabel` package. Within SIRF, NIfTI files can also be read and written using `sirf.Reg`. The code below creates a SIRF Image Data class and shows how to extract information."
   ]
  },
  {
   "cell_type": "code",
   "execution_count": null,
   "id": "581812d3",
   "metadata": {},
   "outputs": [],
   "source": [
    "import sirf.Reg as Reg"
   ]
  },
  {
   "cell_type": "code",
   "execution_count": null,
   "id": "5959d759",
   "metadata": {},
   "outputs": [],
   "source": [
    "s_imd = Reg.ImageData(ffn)        # Load file as SIRF Image Data"
   ]
  },
  {
   "cell_type": "code",
   "execution_count": null,
   "id": "0d447180",
   "metadata": {},
   "outputs": [],
   "source": [
    "s_array = s_imd.as_array()\n",
    "print(\"SIRF array shape: \",s_array.shape)"
   ]
  },
  {
   "cell_type": "code",
   "execution_count": null,
   "id": "819a630c",
   "metadata": {},
   "outputs": [],
   "source": [
    "plt.imshow(s_array[:,:,slc], cmap='gray')"
   ]
  },
  {
   "cell_type": "code",
   "execution_count": null,
   "id": "74b7f40e",
   "metadata": {},
   "outputs": [],
   "source": [
    "# Use the SIRF geometrical_info method\n",
    "s_geom_info = s_imd.get_geometrical_info()\n",
    "\n",
    "s_direction_matrix = s_geom_info.get_direction_matrix()\n",
    "print(\"SIRF geom_info direction matrix \\n\", s_direction_matrix, \"\\n\")\n",
    "\n",
    "print(\"SIRF geom_info get_index_to_physical_point_matrix()\\n\", s_geom_info.get_index_to_physical_point_matrix())\n",
    "\n",
    "print(\"\\n SIRF s_geom_info.get_info()\\n\",s_geom_info.get_info() )\n",
    "\n",
    "print(\"SIRF s_imd.dimensions()   \\n\", s_imd.dimensions())\n",
    "print(\"SIRF s_imd.as_array().shape \\n\", s_imd.as_array().shape)"
   ]
  },
  {
   "cell_type": "markdown",
   "id": "7b42b4e3",
   "metadata": {},
   "source": [
    "The SIRF `get_direction_matrix` returns a 3x3 direction matrix that has information only about orientations. The first column corresponds to unit vector IOP_SOUTH and the second column to IOP_EAST. \n",
    "\n",
    "The SIRF `get_index_to_physical_point_matrix()` returns the same matrix as `A_LPH`. This is the same 4x4 matrix as the nibabel NIfTI affine matrix after conversion to LPH. This 4x4 matrix includes direction, spacing and offset information, whereas the SIRF 3x3 direction matrix is only the direction (also called 'orientation') information. "
   ]
  },
  {
   "cell_type": "markdown",
   "id": "f17d260f",
   "metadata": {},
   "source": [
    "## SIRF Issues\n",
    "Correctly handling geometrical information, and associated array dimensions, is challenging. Conventions within SIRF and the engines used by SIRF can lead to confusion. For example, the `sirf.Reg.ImageData` methods `get_dimensions` and `get_voxel_sizes` return the NIfTI header data directly which can be confusing because it has an extra first dimension.\n"
   ]
  },
  {
   "cell_type": "code",
   "execution_count": null,
   "id": "673248d5",
   "metadata": {},
   "outputs": [],
   "source": [
    "print(\"SIRF s_imd.get_dimensions(): \", s_imd.get_dimensions())\n",
    "print(\"NIfTI header dim:            \", ns.header['dim'])    \n",
    "\n",
    "print(\"\\n SIRF s_imd.get_voxel_sizes() \\n\", s_imd.get_voxel_sizes(), \"\\n\")"
   ]
  },
  {
   "cell_type": "markdown",
   "id": "dec7f388",
   "metadata": {},
   "source": [
    "You can get the full NIfTI header data using the `print_header()` method."
   ]
  },
  {
   "cell_type": "code",
   "execution_count": null,
   "id": "5868693a",
   "metadata": {},
   "outputs": [],
   "source": [
    "s_imd.print_header()"
   ]
  },
  {
   "cell_type": "markdown",
   "id": "32bff62a",
   "metadata": {},
   "source": [
    "The STIR engine can read NIfTI files but it does not correctly handle oblique images. \n",
    "\n",
    "NIfTI and DICOM use a patient coordinate system which cannot be related to physical hardware directions without a knowledge of the patient orientation (e.g. head-first-supine). "
   ]
  },
  {
   "cell_type": "markdown",
   "id": "883d8509",
   "metadata": {},
   "source": [
    "**TIP**\n",
    "\n",
    "As much as possible, work with original data and trust the affine matrix over `get` helper functions. Offset, spacing and orientations can be determined from the affine matrix as above."
   ]
  }
 ],
 "metadata": {
  "kernelspec": {
   "display_name": "Python 3 (ipykernel)",
   "language": "python",
   "name": "python3"
  },
  "language_info": {
   "codemirror_mode": {
    "name": "ipython"
   },
   "file_extension": ".py",
   "mimetype": "text/x-python",
   "name": "python",
   "nbconvert_exporter": "python"
  }
 },
 "nbformat": 4,
 "nbformat_minor": 5
}
