{
 "cells": [
  {
   "cell_type": "markdown",
   "id": "b84ab52d",
   "metadata": {},
   "source": [
    "# Fully 3D Geometry Visualisation"
   ]
  },
  {
   "cell_type": "markdown",
   "id": "9bd3aa62",
   "metadata": {},
   "source": [
    "Authors: David Atkinson\n",
    "\n",
    "First version: 20 June 2021\n",
    "\n",
    "CCP SyneRBI Synergistic Image Reconstruction Framework (SIRF).\n",
    "Copyright 2021 University College London.\n",
    "\n",
    "This is software developed for the Collaborative Computational Project in Synergistic Reconstruction for Biomedical Imaging (http://www.ccpsynerbi.ac.uk/).\n",
    "Licensed under the Apache License, Version 2.0 (the \"License\"); you may not use this file except in compliance with the License. You may obtain a copy of the License at http://www.apache.org/licenses/LICENSE-2.0 Unless required by applicable law or agreed to in writing, software distributed under the License is distributed on an \"AS IS\" BASIS, WITHOUT WARRANTIES OR CONDITIONS OF ANY KIND, either express or implied. See the License for the specific language governing permissions and limitations under the License."
   ]
  },
  {
   "cell_type": "markdown",
   "id": "05797d07",
   "metadata": {},
   "source": [
    "**Aim** \n",
    "\n",
    "This Notebook aims to help users check the orientation of their data by visualising it in 3D. It plots intersecting orthogonal MR slices and a PET slice from a phantom in a PET/MR scanner, and a separate phantom from Philips MR.\n",
    "\n",
    "Using the affine matrix in SIRF's geometry we can calculate the 3D LPH+ patient position of each pixel and plot slices in 3D. The plot can be rotated using a mouse."
   ]
  },
  {
   "cell_type": "code",
   "execution_count": null,
   "id": "ca931a3e",
   "metadata": {},
   "outputs": [],
   "source": [
    "# Setup the working directory for the notebook\n",
    "# (Requires download_data.sh to have been run once before)\n",
    "import notebook_setup\n",
    "from sirf_exercises import cd_to_working_dir\n",
    "cd_to_working_dir('Geometry')"
   ]
  },
  {
   "cell_type": "code",
   "execution_count": null,
   "id": "4cf153d2",
   "metadata": {},
   "outputs": [],
   "source": [
    "%matplotlib notebook"
   ]
  },
  {
   "cell_type": "code",
   "execution_count": null,
   "id": "4acbb4b4",
   "metadata": {},
   "outputs": [],
   "source": [
    "import os\n",
    "import numpy as np\n",
    "import matplotlib.pyplot as plt\n",
    "import sirf.Reg as Reg"
   ]
  },
  {
   "cell_type": "code",
   "execution_count": null,
   "id": "124e5152",
   "metadata": {},
   "outputs": [],
   "source": [
    "# Data for geometry notebooks when run is ./nifti/*.nii\n",
    "data_path = os.getcwd()"
   ]
  },
  {
   "cell_type": "code",
   "execution_count": null,
   "id": "a082b178",
   "metadata": {},
   "outputs": [],
   "source": [
    "def sdisp(ax, s_ido, falpha, frame, ocmap='gray'):\n",
    "    # 3D Display of SIRF ImageData Object\n",
    "    # sdisp(ax, s_ido, falpha, frame, ocmap='gray')\n",
    "    #  ax      axes predefined\n",
    "    #  s_ido   SIRF ImageData Object\n",
    "    #  falpha  face alpha (0-1)\n",
    "    #  frame   frame number (0-based)\n",
    "    #  ocmap   colormap defaults to gray\n",
    "    #\n",
    "    # Calculates the vertices of pixels and uses to create a surface with transparency\n",
    "    # falpha and intensities corresponding to pixwl values\n",
    "    \n",
    "    s_geoinfo = s_ido.get_geometrical_info()\n",
    "    s_array   = s_ido.as_array() \n",
    "    \n",
    "    img = s_array[:,:,frame]\n",
    "    \n",
    "    nrow = img.shape[0]\n",
    "    ncol = img.shape[1]\n",
    "    \n",
    "    L = np.zeros((nrow+1, ncol+1))  # allocate memory\n",
    "    P = np.zeros((nrow+1, ncol+1))  # +1 because this is for vertices\n",
    "    H = np.zeros((nrow+1, ncol+1))\n",
    "    \n",
    "    A = s_geoinfo.get_index_to_physical_point_matrix() \n",
    "    \n",
    "    for ir in range(0,nrow+1):\n",
    "        for ic in range(0,ncol+1):\n",
    "            # VLPH are LPH patient coordinates corresponding to\n",
    "            # pixel vertices, which are at image coords -0.5, 0.5, 1.5, ...\n",
    "            VLPH = np.matmul(A, np.array([ [ir-0.5], [ic-0.5], [frame], [1] ]))\n",
    "            \n",
    "            L[ir,ic] = VLPH[0] #  separate the components for surf plot\n",
    "            P[ir,ic] = VLPH[1] \n",
    "            H[ir,ic] = VLPH[2] \n",
    "    \n",
    "    scamap = plt.cm.ScalarMappable(cmap=ocmap)\n",
    "    fcolors = scamap.to_rgba(img, alpha=falpha)\n",
    "    ax.plot_surface(L, P, H, facecolors=fcolors, cmap=ocmap, linewidth=0, rcount=100, ccount=100)\n",
    "    ax.set_xlabel('Left')\n",
    "    ax.set_ylabel('Posterior')\n",
    "    ax.set_zlabel('Head')"
   ]
  },
  {
   "cell_type": "code",
   "execution_count": null,
   "id": "1e1a712a",
   "metadata": {},
   "outputs": [],
   "source": [
    "def getido(fn, fpath):\n",
    "    # returns a SIRF ImageData Object, given filename and path\n",
    "    ffn = os.path.join(fpath, fn)\n",
    "    s_ido = Reg.ImageData(ffn)  # load file into SIRF ImageData object\n",
    "    return s_ido"
   ]
  },
  {
   "cell_type": "code",
   "execution_count": null,
   "id": "70bee68f",
   "metadata": {},
   "outputs": [],
   "source": [
    "fig = plt.figure()          # Open figure and get 3D axes (can rotate with mouse)\n",
    "ax  = plt.axes(projection='3d') \n",
    "\n",
    "fpath  = os.path.join(data_path , 'nifti')\n",
    "\n",
    "# Data from mMR Biograph. DICOM data converted to NIfTI using MRIcroGL which\n",
    "# uses dcm2niix\n",
    "\n",
    "#mr_cor_ido = getido(\"t2_tse_cor_20180822174706_5.nii\", fpath)\n",
    "#sdisp(ax, mr_cor_ido, 0.4, 15)\n",
    "\n",
    "mr_sag_ido = getido(\"t2_tse_sag_20180822174706_3.nii\", fpath)\n",
    "sdisp(ax, mr_sag_ido, 0.7, 12)\n",
    "\n",
    "mr_tra_ido = getido(\"t2_tse_axi_20180822174706_4.nii\", fpath)\n",
    "sdisp(ax, mr_tra_ido, 0.7, 15)\n",
    "\n",
    "pet_ido = getido(\"Head_MRAC_PET_UTE_20180822174706_7.nii\", fpath)\n",
    "sdisp(ax, pet_ido, 0.8, 63, 'hot')\n"
   ]
  },
  {
   "cell_type": "markdown",
   "id": "660d6639",
   "metadata": {},
   "source": [
    "There should be a 3D figure above showing PET tracer and MR slices. It can be rotated using the mouse, though can be a bit laggy."
   ]
  },
  {
   "cell_type": "code",
   "execution_count": null,
   "id": "7a59c0d5",
   "metadata": {},
   "outputs": [],
   "source": [
    "fig = plt.figure()          # Open figure and get 3D axes (can rotate with mouse)\n",
    "ax  = plt.axes(projection='3d') \n",
    "\n",
    "fpath  = os.path.join(data_path, 'nifti')\n",
    "\n",
    "# Data from Philips MR\n",
    "cor_ido = getido(\"OBJECT_phantom_T2W_TSE_Cor_14_1.nii\", fpath)   #use frame 15\n",
    "#obl_ido = getido(\"OBJECT_phantom_T2W_TSE_OBL_19_1.nii\", fpath)  #frame 19\n",
    "tra_ido = getido(\"OBJECT_phantom_T2W_TSE_Tra_17_1.nii\", fpath)   #frame 2\n",
    "#sag_ido = getido(\"OBJECT_phantom_T2W_TSE_Sag_18_1.nii\", fpath)\n",
    "\n",
    "sdisp(ax, cor_ido, 0.4, 15)\n",
    "sdisp(ax, tra_ido, 0.4,  2)\n"
   ]
  },
  {
   "cell_type": "markdown",
   "id": "b3046528",
   "metadata": {},
   "source": [
    "If the geometry information is correct, the slice intersections should be correct and the axes should point in the correct directions (take care to observe the positive direction on the axes). Note matplotlib 3D does not seem to support equal aspect ratios so the images can be deceptive  - look at the axis labels.\n",
    "Because the plots all use the patient coordinate system, they are correct, even for different orientations, fields of view and pixel sizes."
   ]
  }
 ],
 "metadata": {
  "kernelspec": {
   "display_name": "Python 3 (ipykernel)",
   "language": "python",
   "name": "python3"
  },
  "language_info": {
   "codemirror_mode": {
    "name": "ipython"
   },
   "file_extension": ".py",
   "mimetype": "text/x-python",
   "name": "python",
   "nbconvert_exporter": "python"
  }
 },
 "nbformat": 4,
 "nbformat_minor": 5
}
