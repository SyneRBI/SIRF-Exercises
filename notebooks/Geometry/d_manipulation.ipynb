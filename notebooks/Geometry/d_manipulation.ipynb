{
 "cells": [
  {
   "cell_type": "markdown",
   "metadata": {},
   "source": [
    "### Manipulating Volumes\n",
    "\n",
    "If we manipulate the image data, for example a crop or flip, we need to update the affine matrix as well. If not, the image geometry will be wrong and this could be dangerous for future use of the data."
   ]
  },
  {
   "cell_type": "markdown",
   "metadata": {},
   "source": [
    "Authors: David Atkinson\n",
    "\n",
    "First version: 20 June 2021\n",
    "\n",
    "CCP SyneRBI Synergistic Image Reconstruction Framework (SIRF).\n",
    "Copyright 2021 University College London.\n",
    "\n",
    "This is software developed for the Collaborative Computational Project in Synergistic Reconstruction for Biomedical Imaging (http://www.ccpsynerbi.ac.uk/).\n",
    "SPDX-License-Identifier: Apache-2.0"
   ]
  },
  {
   "cell_type": "code",
   "execution_count": null,
   "metadata": {},
   "outputs": [],
   "source": [
    "# Setup the working directory for the notebook\n",
    "import notebook_setup\n",
    "from sirf_exercises import cd_to_working_dir\n",
    "cd_to_working_dir('Geometry')"
   ]
  },
  {
   "cell_type": "code",
   "execution_count": null,
   "metadata": {},
   "outputs": [],
   "source": [
    "# Import required packages\n",
    "import nibabel \n",
    "import matplotlib.pyplot as plt\n",
    "import numpy as np\n",
    "import os\n",
    "import sirf.Reg as Reg"
   ]
  },
  {
   "cell_type": "code",
   "execution_count": null,
   "metadata": {},
   "outputs": [],
   "source": [
    "# Data for geometry notebooks when run is ./nifti/*.nii\n",
    "data_path = os.getcwd()"
   ]
  },
  {
   "cell_type": "code",
   "execution_count": null,
   "metadata": {},
   "outputs": [],
   "source": [
    "# Set numpy print options to print small numbers as zero etc.\n",
    "np.set_printoptions(precision=3,suppress=True)"
   ]
  },
  {
   "cell_type": "code",
   "execution_count": null,
   "metadata": {},
   "outputs": [],
   "source": [
    "%matplotlib widget"
   ]
  },
  {
   "cell_type": "code",
   "execution_count": null,
   "metadata": {},
   "outputs": [],
   "source": [
    "def vdisp(ax, vol, A, falpha, frame, ocmap='gray'):\n",
    "    # 3D Display of volume\n",
    "    # sdisp(ax, s_ido, falpha, frame, ocmap='gray')\n",
    "    #  ax      axes predefined\n",
    "    #  vol     array of volume data\n",
    "    #  A       4x4 affine matrix\n",
    "    #  falpha  face alpha (0-1)\n",
    "    #  frame   frame number (0-based)\n",
    "    #  ocmap   colormap defaults to gray\n",
    "    #\n",
    "    # Calculates the vertices of pixels and uses to create a surface with transparency\n",
    "    # falpha and intensities corresponding to pixwl values\n",
    "    \n",
    "    img = vol[:,:,frame]\n",
    "    \n",
    "    nrow = img.shape[0]\n",
    "    ncol = img.shape[1]\n",
    "    \n",
    "    L = np.zeros((nrow+1, ncol+1))  # allocate memory\n",
    "    P = np.zeros((nrow+1, ncol+1))  # +1 because this is for vertices\n",
    "    H = np.zeros((nrow+1, ncol+1))\n",
    "    \n",
    "    for ir in range(0,nrow+1):\n",
    "        for ic in range(0,ncol+1):\n",
    "            # VLPH are LPH patient coordinates corresponding to\n",
    "            # pixel vertices, which are at image coords -0.5, 0.5, 1.5, ...\n",
    "            VLPH = np.matmul(A, np.array([ [ir-0.5], [ic-0.5], [frame], [1] ]))\n",
    "            \n",
    "            L[ir,ic] = VLPH[0] #  separate the components for surf plot\n",
    "            P[ir,ic] = VLPH[1] \n",
    "            H[ir,ic] = VLPH[2] \n",
    "    \n",
    "    scamap = plt.cm.ScalarMappable(cmap=ocmap)\n",
    "    fcolors = scamap.to_rgba(img, alpha=falpha)\n",
    "    ax.plot_surface(L, P, H, facecolors=fcolors, cmap=ocmap, linewidth=0, rcount=100, ccount=100)\n",
    "    ax.set_xlabel('Left')\n",
    "    ax.set_ylabel('Posterior')\n",
    "    ax.set_zlabel('Head')"
   ]
  },
  {
   "cell_type": "code",
   "execution_count": null,
   "metadata": {},
   "outputs": [],
   "source": [
    "# Read in data\n",
    "# Get the affine matrix from NIfTI and convert to LPH\n",
    "fpath  = os.path.join(data_path , 'nifti')\n",
    "fn_cor = \"OBJECT_phantom_T2W_TSE_Cor_14_1.nii\" # Coronal volume, 30 slices\n",
    "ffn = os.path.join(fpath, fn_cor)  # full file name\n",
    "\n",
    "\n",
    "s_imd = Reg.ImageData(ffn)     # SIRF ImageData object\n",
    "vol   = s_imd.as_array()     # SIRF array (the volume)\n",
    "\n",
    "s_geom_info = s_imd.get_geometrical_info()\n",
    "A_LPH = s_geom_info.get_index_to_physical_point_matrix()  # 4x4 affine matrix\n",
    "\n",
    "print(A_LPH)\n",
    "print(vol.shape)"
   ]
  },
  {
   "cell_type": "code",
   "execution_count": null,
   "metadata": {},
   "outputs": [],
   "source": [
    "# Find the 3D coordinate of the offset point\n",
    "Q = np.matmul(A_LPH,[0,0,0,1]) \n",
    "print(Q)"
   ]
  },
  {
   "cell_type": "markdown",
   "metadata": {},
   "source": [
    "We are going to create a new volume from the central 200x200x20 region.\n",
    "\n",
    "Will the spacing change?\n",
    "\n",
    "Will the orientations change?\n",
    "\n",
    "Will the offset change?\n"
   ]
  },
  {
   "cell_type": "code",
   "execution_count": null,
   "metadata": {},
   "outputs": [],
   "source": [
    "# Calculate the image coordinates of the region we are going to extract.\n",
    "# There might be more elegant ways of doing this, but Python has made a mess of \n",
    "# rounding and division in its various versions, so this is supposed to be clear\n",
    "\n",
    "fov      = np.array([200, 200, 20])          # new field of view in pixels\n",
    "center0b = np.floor(np.array(vol.shape) / 2.0) # 0-based coordinate of centre\n",
    "hw = np.floor(fov/2.0)   # half width of new fov\n",
    "\n",
    "lim = (center0b - hw).astype(int)  # Python ....\n",
    "\n",
    "# Extract new volume from old\n",
    "volnew = vol[lim[0]:lim[0]+fov[0], lim[1]:lim[1]+fov[1], lim[2]:lim[2]+fov[2]]\n",
    "print(volnew.shape)\n"
   ]
  },
  {
   "cell_type": "code",
   "execution_count": null,
   "metadata": {},
   "outputs": [],
   "source": [
    "# Calculate the new offset in 3D LPH\n",
    "#  lim is in 0-based units\n",
    "Qnew = np.matmul(A_LPH, [lim[0],lim[1],lim[2],1])\n",
    "\n",
    "\n",
    "# The new A is the same as the old, excet for the updated offset\n",
    "Anew = np.array([[A_LPH[0,0], A_LPH[0,1], A_LPH[0,2], Qnew[0]], \n",
    "                 [A_LPH[1,0], A_LPH[1,1], A_LPH[1,2], Qnew[1]],\n",
    "                 [A_LPH[2,0], A_LPH[2,1], A_LPH[2,2], Qnew[2]],\n",
    "                 [A_LPH[3,0], A_LPH[3,1], A_LPH[3,2], Qnew[3]] ])\n",
    "\n",
    "\n",
    "print(A_LPH)\n",
    "print(Anew)"
   ]
  },
  {
   "cell_type": "code",
   "execution_count": null,
   "metadata": {},
   "outputs": [],
   "source": [
    "fig = plt.figure()          # Open figure and get 3D axes (can rotate with mouse)\n",
    "ax  = plt.axes(projection='3d') \n",
    "\n",
    "vdisp(ax, volnew, Anew,  0.6, 10, 'gray')\n",
    "vdisp(ax, vol,    A_LPH, 0.2, 15, 'gray')"
   ]
  },
  {
   "cell_type": "markdown",
   "metadata": {},
   "source": [
    "The figure above shows that the cropped region comes correctly from the original.\n",
    "\n",
    "Now lets look at an example of flipping the second dimension. \n",
    "\n",
    "Will the spacing change? \n",
    "\n",
    "Will the orientations change? \n",
    "\n",
    "Will the offset change?\n"
   ]
  },
  {
   "cell_type": "code",
   "execution_count": null,
   "metadata": {},
   "outputs": [],
   "source": [
    "# The new offset will be at the position of the last voxel in the 2nd dimension in the original colume\n",
    "Qnew = np.matmul(A_LPH, [0, vol.shape[1]-1, 0, 1])\n",
    "print(Qnew)"
   ]
  },
  {
   "cell_type": "code",
   "execution_count": null,
   "metadata": {},
   "outputs": [],
   "source": [
    "# The new A will use the updated offset and swap the sign of the 2nd column as this\n",
    "# corresponds to the 2nd array index.\n",
    "Anew = np.array([[A_LPH[0,0], -A_LPH[0,1], A_LPH[0,2], Qnew[0]], \n",
    "                 [A_LPH[1,0], -A_LPH[1,1], A_LPH[1,2], Qnew[1]],\n",
    "                 [A_LPH[2,0], -A_LPH[2,1], A_LPH[2,2], Qnew[2]],\n",
    "                 [A_LPH[3,0],  A_LPH[3,1], A_LPH[3,2], Qnew[3]] ])\n",
    "\n",
    "# Flip the volume in the 2nd dimension (1 in 0-based units)\n",
    "volnew = np.flip(vol, axis=1)\n"
   ]
  },
  {
   "cell_type": "code",
   "execution_count": null,
   "metadata": {},
   "outputs": [],
   "source": [
    "ax = plt.figure()\n",
    "slc = 15\n",
    "plt.subplot(1,2,1, title='original')\n",
    "plt.imshow(vol[:,:,slc])\n",
    "plt.xticks([]), plt.yticks([])\n",
    "plt.subplot(1,2,2, title='flipped in second dimension')\n",
    "plt.imshow(volnew[:,:,slc])\n",
    "plt.xticks([]), plt.yticks([])"
   ]
  },
  {
   "cell_type": "code",
   "execution_count": null,
   "metadata": {},
   "outputs": [],
   "source": [
    "# Although flipped, we have correctly updated the geometry:\n",
    "\n",
    "fig = plt.figure()          # Open figure and get 3D axes (can rotate with mouse)\n",
    "ax  = plt.axes(projection='3d') \n",
    "\n",
    "vdisp(ax, volnew, Anew,  0.6, slc, 'gray')\n",
    "vdisp(ax, vol,    A_LPH, 0.2, slc, 'hot')"
   ]
  },
  {
   "cell_type": "markdown",
   "metadata": {},
   "source": [
    "Despite the flipped orientation in the array, the images coincide because they are the same slice and are correctly positioned in 3D space."
   ]
  },
  {
   "cell_type": "markdown",
   "metadata": {},
   "source": [
    "Possible Exercises:\n",
    "\n",
    "Flip in the first dimension.\n",
    "\n",
    "Apply a 90 degree rotation about the 3rd dimension axis (a simple rotation)"
   ]
  }
 ],
 "metadata": {
  "kernelspec": {
   "display_name": "Python 3",
   "language": "python",
   "name": "python3"
  },
  "language_info": {
   "codemirror_mode": {
    "name": "ipython"
   },
   "file_extension": ".py",
   "mimetype": "text/x-python",
   "name": "python",
   "nbconvert_exporter": "python"
  }
 },
 "nbformat": 4,
 "nbformat_minor": 5
}
