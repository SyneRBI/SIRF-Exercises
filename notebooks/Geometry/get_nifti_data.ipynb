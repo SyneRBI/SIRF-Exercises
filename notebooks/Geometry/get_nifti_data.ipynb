{
 "cells": [
  {
   "cell_type": "markdown",
   "id": "70206de4-ac69-4ed1-88b5-80f217a7d0c1",
   "metadata": {},
   "source": [
    "## Data for the Geometry notebooks\n",
    "[![DOI](https://zenodo.org/badge/DOI/10.5281/zenodo.4940072.svg)](https://doi.org/10.5281/zenodo.4940072)\n",
    "\n",
    "The data is available on Zenodo in a file called `nifti.zip`. The cells below will download and unzip this for you. If you have not done so already, you will first need to run the `download_data.sh` script in the notebook Introductory introduction.ipynb to set the folder structure, before running the cells below. You only need to do all this once."
   ]
  },
  {
   "cell_type": "code",
   "execution_count": null,
   "id": "39435331-0c0d-4c0a-8053-2857c0a46af5",
   "metadata": {},
   "outputs": [],
   "source": [
    "# Setup the working directory for the notebook\n",
    "import notebook_setup\n",
    "from sirf_exercises import exercises_working_path\n",
    "import os\n",
    "os.chdir(exercises_working_path('Geometry'))\n",
    "\n"
   ]
  },
  {
   "cell_type": "code",
   "execution_count": null,
   "id": "51b58508-28b4-476f-b8ef-279db36bd884",
   "metadata": {},
   "outputs": [],
   "source": [
    "# Cet data, unzip\n",
    "# curl will download into the current directory\n",
    "\n",
    "!curl -O https://zenodo.org/record/4940072/files/nifti.zip\n",
    "!unzip nifti.zip"
   ]
  },
  {
   "cell_type": "markdown",
   "id": "78f989d6-c77b-46c5-82fc-67a62b95dd8a",
   "metadata": {},
   "source": [
    "Note: The zip file was created in a Mac terminal using the command:  `zip -r nifti.zip nifti/* -x \"__MACOSX\" -x \".DS_Store\"`."
   ]
  },
  {
   "cell_type": "markdown",
   "id": "daf4d976-e06c-4972-85aa-b5f518ad4b0b",
   "metadata": {},
   "source": [
    "Show location and files"
   ]
  },
  {
   "cell_type": "code",
   "execution_count": null,
   "id": "1f05c142-dd2b-4a64-973e-6639489fee4f",
   "metadata": {},
   "outputs": [],
   "source": [
    "print(os.getcwd())\n",
    "%ls\n",
    "%ls nifti"
   ]
  }
 ],
 "metadata": {
  "kernelspec": {
   "display_name": "Python 3",
   "language": "python",
   "name": "python3"
  },
  "language_info": {
   "codemirror_mode": {
    "name": "ipython"
   },
   "file_extension": ".py",
   "mimetype": "text/x-python",
   "name": "python",
   "nbconvert_exporter": "python"
  }
 },
 "nbformat": 4,
 "nbformat_minor": 5
}
