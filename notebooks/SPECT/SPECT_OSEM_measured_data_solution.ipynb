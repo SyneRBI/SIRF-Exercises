{
 "cells": [
  {
   "cell_type": "markdown",
   "id": "962178b0",
   "metadata": {},
   "source": [
    "Simple OSEM reconstruction demo for real data: \n",
    "This notebook use data acquired at NPL and it can be downloaded at https://osf.io/pcfb4/. The experiment consists in a Nema phantom with hot spherical inserts (filled with Y90), a cold background, and a lung equivalent cilindrical insert. More information about the experiment can be found in the following manuscripts:\n",
    "Deidda et al, EJNMMI, 2022. https://ejnmmiphys.springeropen.com/articles/10.1186/s40658-022-00452-4\n",
    "\n",
    "This demo is a jupyter notebook, i.e. intended to be run step by step.\n",
    "\n",
    "Authors: Daniel Deidda, Sam Porter, Kris Thielemans\n",
    "\n",
    "First version: 13th of May 2022 \n",
    "\n",
    "CCP SyneRBI Synergistic Image Reconstruction Framework (SIRF).  \n",
    "Copyright 2022 National Physical Laboratory.  \n",
    "Copyright 2022 University College London.  \n",
    "\n",
    "This is software developed for the Collaborative Computational\n",
    "Project in Synergistic Reconstruction for Biomedical Imaging\n",
    "(http://www.ccpsynerbi.ac.uk/).\n",
    "\n",
    "Licensed under the Apache License, Version 2.0 (the \"License\");\n",
    "you may not use this file except in compliance with the License.\n",
    "You may obtain a copy of the License at\n",
    "    http://www.apache.org/licenses/LICENSE-2.0\n",
    "Unless required by applicable law or agreed to in writing, software\n",
    "distributed under the License is distributed on an \"AS IS\" BASIS,\n",
    "WITHOUT WARRANTIES OR CONDITIONS OF ANY KIND, either express or implied.\n",
    "See the License for the specific language governing permissions and\n",
    "limitations under the License."
   ]
  },
  {
   "cell_type": "markdown",
   "id": "d91eaa49",
   "metadata": {},
   "source": [
    "In this exercise you are going to apply what you learned in the previous notebooks about SPECT reconstruction to reconstruct real data. \n"
   ]
  },
  {
   "cell_type": "code",
   "execution_count": null,
   "id": "f80fd2f7",
   "metadata": {},
   "outputs": [],
   "source": [
    "# Initial imports etc\n",
    "import os\n",
    "import glob\n",
    "import numpy as np\n",
    "import subprocess as sp\n",
    "\n",
    "# import engine module\n",
    "# Setup the working directory for the notebook\n",
    "import notebook_setup\n",
    "from sirf_exercises import cd_to_working_dir\n",
    "from sirf.Utilities import examples_data_path\n",
    "from sirf.STIR import show_2D_array\n",
    "from sirf.STIR import MessageRedirector\n",
    "msg_red = MessageRedirector('info.txt', 'warn.txt', 'errr.txt')\n",
    "\n",
    "import sirf.STIR as spect\n",
    "cd_to_working_dir('~/SIRF-Exercises/data/working_folder/', 'measured_SPECT')\n",
    "!pwd\n",
    "!cp -r /mnt/materials/SIRF/PSMRTBP2022/Y90-NEMA-NPL/SPECT/* .\n",
    "!ls ."
   ]
  },
  {
   "cell_type": "markdown",
   "id": "08524093",
   "metadata": {},
   "source": [
    "The following is not needed if the data is already downloaded"
   ]
  },
  {
   "cell_type": "code",
   "execution_count": null,
   "id": "bbca69aa",
   "metadata": {},
   "outputs": [],
   "source": [
    "# Install OSF client to download the NPL data from https://osf.io/pcfb4/ this is a NEMA phantom with spherical inserts filled with Y90\n",
    "#bash_install = \"pip install osfclient\"\n",
    "#process = sp.Popen(bash_install.split(), stdout=sp.PIPE)\n",
    "#output, error = process.communicate()\n"
   ]
  },
  {
   "cell_type": "code",
   "execution_count": null,
   "id": "931f651d",
   "metadata": {},
   "outputs": [],
   "source": [
    "#  Actuall download\n",
    "#bash_clone = \"osf -p pcfb4 clone\"\n",
    "#process = sp.Popen(bash_clone.split(), stdout=sp.PIPE)\n",
    "#output, error = process.communicate()"
   ]
  },
  {
   "cell_type": "code",
   "execution_count": null,
   "id": "6ec9dcbc",
   "metadata": {},
   "outputs": [],
   "source": [
    "# set data template\n",
    "templ_sino = spect.AcquisitionData('peak_1_projdata__f1g1d0b0.hs')"
   ]
  },
  {
   "cell_type": "markdown",
   "id": "54ce83d9",
   "metadata": {},
   "source": [
    "# Exercise 1: Simple Reconstruction:\n",
    "Once you read the measured sinogram implement the system model end set up the reconstruction model and run a reconstruction"
   ]
  },
  {
   "cell_type": "code",
   "execution_count": null,
   "id": "58584f1f",
   "metadata": {},
   "outputs": [],
   "source": [
    "# plot measured sinogram\n",
    "measured_data_as_array = templ_sino.as_array()\n",
    "middle_slice=measured_data_as_array.shape[2]//2\n",
    "print(middle_slice)\n",
    "show_2D_array('Measured data', measured_data_as_array[0, middle_slice,:,:])\n",
    "measured_data_as_array.min()"
   ]
  },
  {
   "cell_type": "code",
   "execution_count": null,
   "id": "850fd91f",
   "metadata": {},
   "outputs": [],
   "source": [
    "# create image with suitable sizes\n",
    "image = templ_sino.create_uniform_image()\n",
    "print(image.voxel_sizes())\n",
    "print(image.dimensions()) "
   ]
  },
  {
   "cell_type": "code",
   "execution_count": null,
   "id": "d14521ed",
   "metadata": {},
   "outputs": [],
   "source": [
    "# show the attenuation image\n",
    "uMap = spect.ImageData('umap_zoomed.hv')\n",
    "z = uMap.dimensions()[0]//2 -10\n",
    "uMap_array = uMap.as_array()\n",
    "uMap.dimensions()\n",
    "show_2D_array('Attenuation image', uMap_array[z,:,:])"
   ]
  },
  {
   "cell_type": "code",
   "execution_count": null,
   "id": "4479d023",
   "metadata": {},
   "outputs": [],
   "source": [
    "# select acquisition model that implements the geometric\n",
    "# forward projection by a ray tracing matrix multiplication\n",
    "acq_model_matrix = spect.SPECTUBMatrix();\n",
    "#acq_model_matrix.set_keep_all_views_in_cache(True)\n",
    "acq_model_matrix.set_attenuation_image(uMap) # add attenuation\n",
    "acq_model = spect.AcquisitionModelUsingMatrix(acq_model_matrix)"
   ]
  },
  {
   "cell_type": "code",
   "execution_count": null,
   "id": "0663ab88",
   "metadata": {},
   "outputs": [],
   "source": [
    "# create objective function\n",
    "obj_fun = spect.make_Poisson_loglikelihood(templ_sino)\n",
    "obj_fun.set_acquisition_model(acq_model)"
   ]
  },
  {
   "cell_type": "code",
   "execution_count": null,
   "id": "82b2fcec",
   "metadata": {},
   "outputs": [],
   "source": [
    "# create OSEM reconstructor object\n",
    "num_subsets = 12 # number of subsets for OSEM reconstruction\n",
    "num_subiters = 12 #number of subiterations (i.e one full iterations)\n",
    "OSEM_reconstructor = spect.OSMAPOSLReconstructor()\n",
    "OSEM_reconstructor.set_objective_function(obj_fun)\n",
    "OSEM_reconstructor.set_num_subsets(num_subsets)\n",
    "OSEM_reconstructor.set_num_subiterations(num_subiters)"
   ]
  },
  {
   "cell_type": "code",
   "execution_count": null,
   "id": "dd1042e3",
   "metadata": {},
   "outputs": [],
   "source": [
    "# create initialisation image and set up reconstructor\n",
    "# the following lines are needed to make the initialisation image compatible with the uMap\n",
    "offset=(image.dimensions()[2]-2)*image.voxel_sizes()[2]/2 - (image.dimensions()[2]-1)*image.voxel_sizes()[2]/2\n",
    "init_image = image.zoom_image(zooms=(0.5, 1.0, 1.0), offsets_in_mm=(0,offset,offset), size=(128,128,128))\n",
    "init_image.write(\"init.hv\")\n",
    "OSEM_reconstructor.set_up(init_image.get_uniform_copy(1))\n"
   ]
  },
  {
   "cell_type": "code",
   "execution_count": null,
   "id": "51264d96",
   "metadata": {},
   "outputs": [],
   "source": [
    "# Reconstruct and show reconstructed image\n",
    "OSEM_reconstructor.reconstruct(init_image.get_uniform_copy(1))\n",
    "out_image = OSEM_reconstructor.get_current_estimate()\n",
    "out_image_array = out_image.as_array()\n",
    "show_2D_array('Reconstructed image', out_image_array[z,:,:])"
   ]
  },
  {
   "cell_type": "markdown",
   "id": "57e0ffc1",
   "metadata": {},
   "source": [
    "# Exercise 2: PSF Reconstruction:\n",
    "2a) now change the acquisition model to include resolution modelling (use help(SPECTUBMatrix)) to find the right function. The resolution model in STIR is based on Gaussian function and assumes linear dependency of the sigma from the distance of the detector Sigma(d) = slope*d +Sigma0.\n",
    "\n",
    "The measured slope and sigma0 for these data is respectevely 0.027 and 0.417 (cm)\n",
    "\n",
    "2b) study the difference between OSEM and OSEM-PSF\n",
    "\n",
    "2c) study also the difference between using a fully 3D PSF or a 2D PSF"
   ]
  },
  {
   "cell_type": "code",
   "execution_count": null,
   "id": "3f5fce65",
   "metadata": {},
   "outputs": [],
   "source": [
    "#2a\n",
    "acq_model_matrix.set_resolution_model(4.17,0.27,False)\n",
    "obj_fun.set_acquisition_model(acq_model)\n",
    "OSEM_reconstructor.set_objective_function(obj_fun)\n",
    "OSEM_reconstructor.set_up(init_image.get_uniform_copy(1))\n",
    "OSEM_reconstructor.reconstruct(init_image.get_uniform_copy(1))\n",
    "out_image_psf = OSEM_reconstructor.get_current_estimate()\n",
    "out_image_psf_array = out_image_psf.as_array()\n",
    "#2b\n",
    "diff_array=out_image_array-out_image_psf_array\n",
    "show_2D_array('Reconstructed image with PSF', out_image_psf_array[z,:,:])\n",
    "show_2D_array('Reconstructed image', out_image_array[z,:,:])\n",
    "show_2D_array('OSEM - OSEM-PSF', diff_array[z,:,:])"
   ]
  },
  {
   "cell_type": "code",
   "execution_count": null,
   "id": "0c56f23b",
   "metadata": {},
   "outputs": [],
   "source": [
    "#2c\n",
    "acq_model_matrix.set_resolution_model(4.17,0.27,True)\n",
    "obj_fun.set_acquisition_model(acq_model)\n",
    "OSEM_reconstructor.set_objective_function(obj_fun)\n",
    "OSEM_reconstructor.set_up(init_image.get_uniform_copy(1))\n",
    "OSEM_reconstructor.reconstruct(init_image.get_uniform_copy(1))\n",
    "out_image_psf3d = OSEM_reconstructor.get_current_estimate()\n",
    "out_image_psf3d_array = out_image_psf3d.as_array()\n",
    "diff2_array=out_image_psf3d_array-out_image_psf_array\n",
    "show_2D_array('Reconstructed image with PSF 3D', out_image_psf3d_array[z,:,:])\n",
    "show_2D_array('Reconstructed image', out_image_psf_array[z,:,:])\n",
    "show_2D_array('OSEM-PSF3D - OSEM-PSF2D', diff2_array[z,:,:])"
   ]
  }
 ],
 "metadata": {
  "interpreter": {
   "hash": "19b3ca16cdfc0eb05e0a6512c0e4ce5cf00e8dfec5d97ffb38b4ca3f11434ee7"
  },
  "kernelspec": {
   "display_name": "Python 3.9.5 64-bit ('base': conda)",
   "language": "python",
   "name": "python3"
  },
  "language_info": {
   "codemirror_mode": {
    "name": "ipython",
    "version": 3
   },
   "file_extension": ".py",
   "mimetype": "text/x-python",
   "name": "python",
   "nbconvert_exporter": "python",
   "pygments_lexer": "ipython3",
   "version": "3.9.5"
  }
 },
 "nbformat": 4,
 "nbformat_minor": 5
}
