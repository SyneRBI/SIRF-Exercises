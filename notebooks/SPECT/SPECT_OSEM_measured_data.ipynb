{
 "cells": [
  {
   "cell_type": "markdown",
   "id": "962178b0",
   "metadata": {},
   "source": [
    "Simple OSEM reconstruction demo for real data: \n",
    "This notebook use data acquired at NPL and it can be downloaded at https://osf.io/pcfb4/. The experiment consists in a Nema phantom with hot spherical inserts (filled with Y90), a cold background, and a lung equivalent cilindrical insert. More information about the experiment can be found in the following manuscripts:\n",
    "Deidda et al, EJNMMI, 2022. https://ejnmmiphys.springeropen.com/articles/10.1186/s40658-022-00452-4\n",
    "\n",
    "This demo is a jupyter notebook, i.e. intended to be run step by step.\n",
    "\n",
    "Authors: Daniel Deidda, Sam Porter, Kris Thielemans\n",
    "\n",
    "First version: 13th of May 2022 \n",
    "\n",
    "CCP SyneRBI Synergistic Image Reconstruction Framework (SIRF).  \n",
    "Copyright 2022 National Physical Laboratory.  \n",
    "Copyright 2022 University College London.  \n",
    "\n",
    "This is software developed for the Collaborative Computational\n",
    "Project in Synergistic Reconstruction for Biomedical Imaging\n",
    "(http://www.ccpsynerbi.ac.uk/).\n",
    "\n",
    "Licensed under the Apache License, Version 2.0 (the \"License\");\n",
    "you may not use this file except in compliance with the License.\n",
    "You may obtain a copy of the License at\n",
    "    http://www.apache.org/licenses/LICENSE-2.0\n",
    "Unless required by applicable law or agreed to in writing, software\n",
    "distributed under the License is distributed on an \"AS IS\" BASIS,\n",
    "WITHOUT WARRANTIES OR CONDITIONS OF ANY KIND, either express or implied.\n",
    "See the License for the specific language governing permissions and\n",
    "limitations under the License."
   ]
  },
  {
   "cell_type": "markdown",
   "id": "d91eaa49",
   "metadata": {},
   "source": [
    "In this exercise you are going to apply what you learned in the previous notebooks about SPECT reconstruction to reconstruct real data. \n"
   ]
  },
  {
   "cell_type": "code",
   "execution_count": null,
   "id": "f80fd2f7",
   "metadata": {},
   "outputs": [],
   "source": [
    "# Initial imports etc\n",
    "import os\n",
    "import glob\n",
    "import numpy as np\n",
    "import subprocess as sp\n",
    "\n",
    "# import engine module\n",
    "# Setup the working directory for the notebook\n",
    "import notebook_setup\n",
    "from sirf_exercises import cd_to_working_dir\n",
    "from sirf.Utilities import examples_data_path\n",
    "from sirf.STIR import show_2D_array\n",
    "from sirf.STIR import MessageRedirector\n",
    "msg_red = MessageRedirector('info.txt', 'warn.txt', 'errr.txt')\n",
    "\n",
    "import sirf.STIR as spect\n",
    "cd_to_working_dir('~/SIRF-Exercises/data/working_folder/', 'measured_SPECT')\n",
    "!pwd\n",
    "!cp -r /mnt/materials/SIRF/PSMRTBP2022/Y90-NEMA-NPL/SPECT/* .\n",
    "!ls ."
   ]
  },
  {
   "cell_type": "markdown",
   "id": "08524093",
   "metadata": {},
   "source": [
    "The following is not needed if the data is already downloaded"
   ]
  },
  {
   "cell_type": "code",
   "execution_count": null,
   "id": "3ff2c46c",
   "metadata": {},
   "outputs": [],
   "source": [
    "# Install OSF client to download the NPL data from https://osf.io/pcfb4/ this is a NEMA phantom with spherical inserts filled with Y90\n",
    "#bash_install = \"pip install osfclient\"\n",
    "#process = sp.Popen(bash_install.split(), stdout=sp.PIPE)\n",
    "#output, error = process.communicate()\n"
   ]
  },
  {
   "cell_type": "code",
   "execution_count": null,
   "id": "931f651d",
   "metadata": {},
   "outputs": [],
   "source": [
    "#  Actuall download\n",
    "#bash_clone = \"osf -p pcfb4 clone\"\n",
    "#process = sp.Popen(bash_clone.split(), stdout=sp.PIPE)\n",
    "#output, error = process.communicate()"
   ]
  },
  {
   "cell_type": "code",
   "execution_count": null,
   "id": "6ec9dcbc",
   "metadata": {},
   "outputs": [],
   "source": [
    "# set data template use the path where the data is \n",
    "templ_sino = spect.AcquisitionData('peak_1_projdata__f1g1d0b0.hs')\n",
    "#check the name of umap in the folder as you will have to load that in the SPECTUBMatrix"
   ]
  },
  {
   "cell_type": "markdown",
   "id": "54ce83d9",
   "metadata": {},
   "source": [
    "# Exercise 1: Simple Reconstruction:\n",
    "Once you read the measured sinogram implement the system model end set up the reconstruction model and run a reconstruction"
   ]
  },
  {
   "cell_type": "code",
   "execution_count": null,
   "id": "58584f1f",
   "metadata": {},
   "outputs": [],
   "source": []
  },
  {
   "cell_type": "markdown",
   "id": "57e0ffc1",
   "metadata": {},
   "source": [
    "# Exercise 2: PSF Reconstruction:\n",
    "2a) now change the acquisition model to include resolution modelling (use help(SPECTUBMatrix)) to find the right function. The resolution model in STIR is based on Gaussian function and assumes linear dependency of the sigma from the distance of the detector Sigma(d) = slope*d +Sigma0.\n",
    "\n",
    "The measured slope and sigma0 for these data is respectevely 0.027 and 0.417 (cm)\n",
    "\n",
    "2b) study the difference between OSEM and OSEM-PSF\n",
    "\n",
    "2c) study also the difference between using a fully 3D PSF or a 2D PSF"
   ]
  },
  {
   "cell_type": "code",
   "execution_count": null,
   "id": "602f2adb",
   "metadata": {},
   "outputs": [],
   "source": []
  }
 ],
 "metadata": {
  "interpreter": {
   "hash": "19b3ca16cdfc0eb05e0a6512c0e4ce5cf00e8dfec5d97ffb38b4ca3f11434ee7"
  },
  "kernelspec": {
   "display_name": "Python 3.9.5 64-bit ('base': conda)",
   "language": "python",
   "name": "python3"
  },
  "language_info": {
   "codemirror_mode": {
    "name": "ipython"
   },
   "file_extension": ".py",
   "mimetype": "text/x-python",
   "name": "python",
   "nbconvert_exporter": "python"
  }
 },
 "nbformat": 4,
 "nbformat_minor": 5
}
