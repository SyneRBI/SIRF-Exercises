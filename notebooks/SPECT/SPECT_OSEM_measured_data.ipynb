{
 "cells": [
  {
   "cell_type": "markdown",
   "id": "d65d78e9-42e6-41e3-906d-7feed7d333c7",
   "metadata": {},
   "source": [
    "Simple OSEM reconstruction demo for real data: \n",
    "This notebook use data acquired at NPL and it can be downloaded at https://osf.io/pcfb4/. The experiment consists in a Nema phantom with hot spherical inserts (filled with Y90), a cold background, and a lung equivalent cilindrical insert. More information about the experiment can be found in the following manuscripts:\n",
    "Deidda et al, EJNMMI, 2022. https://ejnmmiphys.springeropen.com/articles/10.1186/s40658-022-00452-4\n",
    "\n",
    "This demo is a jupyter notebook, i.e. intended to be run step by step.\n",
    "\n",
    "Authors: Daniel Deidda, Sam Porter, Kris Thielemans\n",
    "\n",
    "First version: 13th of May 2022 \n",
    "\n",
    "CCP SyneRBI Synergistic Image Reconstruction Framework (SIRF).  \n",
    "Copyright 2022 National Physical Laboratory.  \n",
    "Copyright 2022 University College London.  \n",
    "\n",
    "This is software developed for the Collaborative Computational\n",
    "Project in Synergistic Reconstruction for Biomedical Imaging\n",
    "(http://www.ccpsynerbi.ac.uk/).\n",
    "\n",
    "SPDX-License-Identifier: Apache-2.0"
   ]
  },
  {
   "cell_type": "markdown",
   "id": "b6178d32-5fed-437f-a09b-e09e7f8806d3",
   "metadata": {},
   "source": [
    "In this exercise you are going to apply what you learned in the previous notebooks about SPECT reconstruction to reconstruct real data. \n"
   ]
  },
  {
   "cell_type": "code",
   "execution_count": null,
   "id": "aa352bef-7909-441c-b777-afdefe63f6ec",
   "metadata": {},
   "outputs": [],
   "source": [
    "# Initial imports etc\n",
    "import os\n",
    "import glob\n",
    "import numpy as np\n",
    "import subprocess as sp\n",
    "\n",
    "# import engine module\n",
    "# Setup the working directory for the notebook\n",
    "import notebook_setup\n",
    "from sirf_exercises import exercises_working_path\n",
    "from sirf.Utilities import examples_data_path\n",
    "from sirf.STIR import show_2D_array\n",
    "from sirf.STIR import MessageRedirector\n",
    "\n",
    "import sirf.STIR as spect\n",
    "os.chdir(exercises_working_path('measured_SPECT'))\n",
    "msg_red = MessageRedirector('info.txt', 'warnings.txt')"
   ]
  },
  {
   "cell_type": "markdown",
   "id": "076a8deb-632a-45a7-a696-78a4603dd4b3",
   "metadata": {},
   "source": [
    "Install OSF client and download the NPL data from https://osf.io/pcfb4/ this is a NEMA phantom with spherical inserts filled with Y90. No need to redo this if the data is already downloaded"
   ]
  },
  {
   "cell_type": "code",
   "execution_count": null,
   "id": "e3aa67ff-1507-44c2-93bc-de18d5ffa632",
   "metadata": {},
   "outputs": [],
   "source": [
    "%%bash\n",
    "$SIRF_PYTHON_EXECUTABLE -m pip install osfclient\n",
    "osf -p pcfb4 clone"
   ]
  },
  {
   "cell_type": "code",
   "execution_count": null,
   "id": "4a48828a-6073-4176-bc88-b623e340df80",
   "metadata": {},
   "outputs": [],
   "source": [
    "os.chdir('pcfb4/osfstorage/Y90-NEMA-NPL/SPECT/')"
   ]
  },
  {
   "cell_type": "code",
   "execution_count": null,
   "id": "078feb1f-4b6e-48f6-800c-1e86d9089950",
   "metadata": {},
   "outputs": [],
   "source": [
    "%ls"
   ]
  },
  {
   "cell_type": "code",
   "execution_count": null,
   "id": "d8cd3966-a6dd-496b-9209-662f785682b8",
   "metadata": {},
   "outputs": [],
   "source": [
    "# set data template use the path where the data is \n",
    "sino = spect.AcquisitionData('peak_1_projdata__f1g1d0b0.hs')\n",
    "mumap = spect.ImageData('umap_zoomed.hv')"
   ]
  },
  {
   "cell_type": "markdown",
   "id": "c6b812f7-062d-4ff3-b3f3-b0f5e79c8695",
   "metadata": {},
   "source": [
    "# Exercise 1: Simple Reconstruction:\n",
    "Once you read the measured sinogram implement the system model end set up the reconstruction model and run a reconstruction"
   ]
  },
  {
   "cell_type": "code",
   "execution_count": null,
   "id": "c6bdf0f3-bddc-4389-a4e3-b715bf9c4eff",
   "metadata": {},
   "outputs": [],
   "source": []
  },
  {
   "cell_type": "markdown",
   "id": "0d0677c5-69a0-4df3-8be7-373c13f6501e",
   "metadata": {},
   "source": [
    "# Exercise 2: PSF Reconstruction:\n",
    "2a) now change the acquisition model to include resolution modelling (use help(SPECTUBMatrix)) to find the right function. The resolution model in STIR is based on Gaussian function and assumes linear dependency of the sigma from the distance of the detector Sigma(d) = slope*d +Sigma0.\n",
    "\n",
    "The measured slope and sigma0 for these data is respectively 0.027 and 0.417 (cm)\n",
    "\n",
    "2b) study the difference between OSEM and OSEM-PSF\n",
    "\n",
    "2c) study also the difference between using a fully 3D PSF or a 2D PSF"
   ]
  },
  {
   "cell_type": "code",
   "execution_count": null,
   "id": "c2299673-a6b7-4072-800f-268fe71bef7a",
   "metadata": {},
   "outputs": [],
   "source": []
  }
 ],
 "metadata": {
  "interpreter": {
   "hash": "19b3ca16cdfc0eb05e0a6512c0e4ce5cf00e8dfec5d97ffb38b4ca3f11434ee7"
  },
  "kernelspec": {
   "display_name": "Python 3",
   "language": "python",
   "name": "python3"
  },
  "language_info": {
   "codemirror_mode": {
    "name": "ipython"
   },
   "file_extension": ".py",
   "mimetype": "text/x-python",
   "name": "python",
   "nbconvert_exporter": "python"
  }
 },
 "nbformat": 4,
 "nbformat_minor": 5
}
