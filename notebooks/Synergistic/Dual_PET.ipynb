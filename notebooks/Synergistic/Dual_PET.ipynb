{
 "cells": [
  {
   "cell_type": "markdown",
   "metadata": {},
   "source": [
    "# Dual PET tracer de Pierro with motion\n",
    "\n",
    "Authors: Richard Brown, Kris Thielemans  \n",
    "First version: 2nd of November 2019\n",
    "\n",
    "CCP PETMR Synergistic Image Reconstruction Framework (SIRF)  \n",
    "Copyright 2019  University College London  \n",
    "Copyright 2019  King's College London  \n",
    "\n",
    "This is software developed for the Collaborative Computational\n",
    "Project in Synergistic Reconstruction for Biomedical Imaging\n",
    "(http://www.ccpsynerbi.ac.uk/).\n",
    "\n",
    "SPDX-License-Identifier: Apache-2.0"
   ]
  },
  {
   "cell_type": "markdown",
   "metadata": {},
   "source": [
    "# The challenge!\n",
    "\n",
    "This notebook is an open-ended look into using de Pierro MAPEM to reconstruct dual-PET acquisitions.\n",
    "\n",
    "- Imagine two different scans (FDG and amyloid) were performed in a short space of time on a single patient. \n",
    "- Your task is to implement an alternating reconstruction of the two scans using de Pierro's MAPEM algorithm where each image is reconstructed with side-information from the other.\n",
    "\n",
    "Note that the Bowsher prior might not work very well in this context, but you can use the same ideas with other \"guided\" reconstruction methods of course.\n",
    "\n",
    "## Suggested workflow - no motion\n",
    "\n",
    "- Inspire yourself from [MAPEM_Bowsher.ipynb](MAPEM_Bowsher.ipynb), in which Bowsher weights are calculated on some known side information.\n",
    "- Now, imagine that the side information is evolving with our image estimate\n",
    "- We'll probably want to perform an update on one of our images (image A)\n",
    "- Then recalculate the Bowsher weights of the second image (image B) with our newly-update image A\n",
    "- Then perform a normal de Pierro update on image B\n",
    "- Then recalculate the Bowsher weights of image A using our newly-updated image B\n",
    "\n",
    "### But what about motion?\n",
    "\n",
    "It's possible that there's motion between the two images since they were acquired at different times. Once you've got everything working for dual PET reconstructions, it's time to add motion in just to complicate things! We've also given you a misaligned amyloid acquisition, `amyl_sino_noisy_misaligned.hs` and a corresponding $\\mu$-map, `uMap_misaligned.hv`.\n",
    "\n",
    "- Imagine two different scans (FDG and amyloid) were performed in a short space of time on a single patient. \n",
    "- Your task is to implement an alternating reconstruction of the two scans using de Pierro's MAPEM algorithm!\n",
    "- Bear in mind that the two scans weren't performed at the same time, so the patient's head isn't necessarily in the same place...\n",
    "\n",
    "## Suggested workflow - motion\n",
    "\n",
    "1. Since we can't be sure of patient position, you should probably reconstruct each image individually \n",
    "2. Then register them\n",
    "3. Then modify your non-motion case, such that you resample each image into the others' space before calculating the Bowsher weights\n",
    "\n",
    "### Hints:\n",
    "- For an implementation of de Pierro MAPEM with Bowsher, checkout the [MAPEM_Bowsher.ipynb](MAPEM_Bowsher.ipynb) notebook.\n",
    "- To go faster, rebin your sinograms (as per previous notebooks)!\n",
    "- For registration and resampling, check out the [../Reg/sirf_registration.ipynb](../Reg/sirf_registration.ipynb) notebook. \n",
    "\n",
    "### One final word\n",
    "\n",
    "We've given you some pointers down below that you can fill bit by bit. The sections marked with astrisks won't be needed until you implement the motion case."
   ]
  },
  {
   "cell_type": "markdown",
   "metadata": {},
   "source": [
    "# 0a. Some includes and imshow-esque functions"
   ]
  },
  {
   "cell_type": "code",
   "execution_count": null,
   "metadata": {},
   "outputs": [],
   "source": [
    "# All the normal stuff you've already seen"
   ]
  },
  {
   "cell_type": "markdown",
   "metadata": {},
   "source": [
    "# 0b. Input data"
   ]
  },
  {
   "cell_type": "code",
   "execution_count": null,
   "metadata": {},
   "outputs": [],
   "source": [
    "# copy files to working folder and change directory to where the output files are\n",
    "brainweb_sim_data_path = exercises_working_path('Synergistic', 'BrainWeb')\n",
    "\n",
    "fname_FDG_sino = os.path.join(brainweb_sim_data_path, 'FDG_sino_noisy.hs')\n",
    "fname_FDG_uMap = os.path.join(brainweb_sim_data_path, 'uMap_small.hv')\n",
    "# No motion filenames\n",
    "fname_amyl_sino = os.path.join(brainweb_sim_data_path, 'amyl_sino_noisy.hs')\n",
    "fname_amyl_uMap = os.path.join(brainweb_sim_data_path, 'uMap_small.hv')\n",
    "# Motion filenames\n",
    "# fname_amyl_sino = 'amyl_sino_noisy_misaligned.hs'\n",
    "# fname_amyl_uMap = 'uMap_misaligned.hv'"
   ]
  },
  {
   "cell_type": "markdown",
   "metadata": {},
   "source": [
    "# 0c. Set up normal reconstruction stuff"
   ]
  },
  {
   "cell_type": "code",
   "execution_count": null,
   "metadata": {},
   "outputs": [],
   "source": [
    "# Code to set up objective function and OSEM recontsructors"
   ]
  },
  {
   "cell_type": "markdown",
   "metadata": {},
   "source": [
    "# 1. Two individual reconstructions *"
   ]
  },
  {
   "cell_type": "code",
   "execution_count": null,
   "metadata": {},
   "outputs": [],
   "source": [
    "# Some code goes here"
   ]
  },
  {
   "cell_type": "markdown",
   "metadata": {},
   "source": [
    "# 2. Register images *"
   ]
  },
  {
   "cell_type": "code",
   "execution_count": null,
   "metadata": {},
   "outputs": [],
   "source": [
    "# Some more code goes here"
   ]
  },
  {
   "cell_type": "markdown",
   "metadata": {},
   "source": [
    "# 3. A resample function? *"
   ]
  },
  {
   "cell_type": "code",
   "execution_count": null,
   "metadata": {},
   "outputs": [],
   "source": [
    "# How about a bit of code here?"
   ]
  },
  {
   "cell_type": "markdown",
   "metadata": {},
   "source": [
    "# 4. Maybe some de Pierro functions"
   ]
  },
  {
   "cell_type": "code",
   "execution_count": null,
   "metadata": {},
   "outputs": [],
   "source": [
    "# A pinch more code here"
   ]
  },
  {
   "cell_type": "markdown",
   "metadata": {},
   "source": [
    "# 5. Are we ready?"
   ]
  },
  {
   "cell_type": "code",
   "execution_count": null,
   "metadata": {},
   "outputs": [],
   "source": [
    "# Final code!"
   ]
  },
  {
   "cell_type": "markdown",
   "metadata": {},
   "source": [
    "# Stuck?\n",
    "\n",
    "You could have a look at the [Solutions folder](Solutions)..."
   ]
  }
 ],
 "metadata": {
  "kernelspec": {
   "display_name": "Python 3",
   "language": "python",
   "name": "python3"
  },
  "language_info": {
   "codemirror_mode": {
    "name": "ipython"
   },
   "file_extension": ".py",
   "mimetype": "text/x-python",
   "name": "python",
   "nbconvert_exporter": "python"
  }
 },
 "nbformat": 4,
 "nbformat_minor": 2
}
