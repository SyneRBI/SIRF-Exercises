{
 "cells": [
  {
   "cell_type": "markdown",
   "metadata": {},
   "source": [
    "# Dual PET tracer de Pierro with Bowsher, handling motion\n",
    "This notebook fleshes out the skeleton for the challenge set in the [../Dual_PET notebook](../Dual_PET.ipynb), including motion.\n",
    "\n",
    "Authors: Richard Brown, Sam Ellis, Kris Thielemans  \n",
    "First version: 2nd of November 2019\n",
    "\n",
    "Second version June 2021\n",
    "\n",
    "CCP PETMR Synergistic Image Reconstruction Framework (SIRF)  \n",
    "Copyright 2019, 2021  University College London  \n",
    "Copyright 2019  King's College London  \n",
    "\n",
    "This is software developed for the Collaborative Computational\n",
    "Project in Synergistic Reconstruction for Biomedical Imaging.\n",
    "(http://www.synerbi.ac.uk/).\n",
    "\n",
    "SPDX-License-Identifier: Apache-2.0"
   ]
  },
  {
   "cell_type": "markdown",
   "metadata": {},
   "source": [
    "# 0a. Some includes and imshow-esque functions"
   ]
  },
  {
   "cell_type": "code",
   "execution_count": null,
   "metadata": {},
   "outputs": [],
   "source": [
    "# All the normal stuff you've already seen\n",
    "import notebook_setup\n",
    "\n",
    "#%% Initial imports etc\n",
    "import numpy\n",
    "import matplotlib.pyplot as plt\n",
    "import os\n",
    "import sys\n",
    "import shutil\n",
    "import time\n",
    "import sirf.STIR as pet\n",
    "from sirf_exercises import exercises_data_path\n",
    "import sirf.Reg as Reg\n",
    "import sirf.contrib.kcl.Prior as pr\n",
    "\n",
    "# plotting settings\n",
    "plt.ion() # interactive 'on' such that plots appear during loops\n",
    "\n",
    "%matplotlib widget\n",
    "\n",
    "#%% some handy function definitions\n",
    "def imshow(image, limits=None, title=''):\n",
    "    \"\"\"Usage: imshow(image, [min,max], title)\"\"\"\n",
    "    plt.title(title)\n",
    "    bitmap = plt.imshow(image)\n",
    "    if limits is None:\n",
    "        limits = [image.min(), image.max()]\n",
    "                \n",
    "    plt.clim(limits[0], limits[1])\n",
    "    plt.colorbar(shrink=.6)\n",
    "    plt.axis('off')\n",
    "    return bitmap\n",
    "\n",
    "def make_cylindrical_FOV(image):\n",
    "    \"\"\"truncate to cylindrical FOV\"\"\"\n",
    "    filter = pet.TruncateToCylinderProcessor()\n",
    "    filter.apply(image)   \n",
    "    \n",
    "#%% define a function for plotting images and the updates\n",
    "# This is the same function as in `ML_reconstruction`\n",
    "def plot_progress_compare(all_images1,all_images2, title1, title2, subiterations, cmax):\n",
    "    if len(subiterations)==0:\n",
    "        num_subiters = all_images1[0].shape[0]-1;\n",
    "        subiterations = range(1, num_subiters+1);\n",
    "    num_rows = len(all_images1);\n",
    "    slice = 60\n",
    "    for iter in subiterations:\n",
    "        plt.figure()\n",
    "        for r in range(num_rows):\n",
    "            plt.subplot(num_rows,2,2*r+1)\n",
    "            imshow(all_images1[r][iter,slice,:,:], [0,cmax], '%s at %d' % (title1[r],  iter))\n",
    "            plt.subplot(num_rows,2,2*r+2)\n",
    "            imshow(all_images2[r][iter,slice,:,:], [0,cmax], '%s at %d' % (title2[r],  iter))\n",
    "        plt.show(); \n",
    "\n",
    "def subplot_(idx,vol,title,clims=None,cmap=\"viridis\"):\n",
    "    plt.subplot(*idx)\n",
    "    plt.imshow(vol,cmap=cmap)\n",
    "    if not clims is None:\n",
    "        plt.clim(clims)\n",
    "    plt.colorbar()\n",
    "    plt.title(title)\n",
    "    plt.axis(\"off\")"
   ]
  },
  {
   "cell_type": "markdown",
   "metadata": {},
   "source": [
    "# 0b. Input data"
   ]
  },
  {
   "cell_type": "code",
   "execution_count": null,
   "metadata": {},
   "outputs": [],
   "source": [
    "# Setup the working directory for the notebook\n",
    "import notebook_setup\n",
    "\n",
    "from sirf_exercises import cd_to_working_dir\n",
    "cd_to_working_dir('Synergistic', 'BrainWeb')\n",
    "\n",
    "fname_FDG_sino = 'FDG_sino_noisy.hs'\n",
    "fname_FDG_uMap = 'uMap_small.hv'\n",
    "# No motion filenames\n",
    "# fname_amyl_sino = 'amyl_sino_noisy.hs'\n",
    "# fname_amyl_uMap = 'uMap_small.hv'\n",
    "# Motion filenames\n",
    "fname_amyl_sino = 'amyl_sino_noisy_misaligned.hs'\n",
    "fname_amyl_uMap = 'uMap_misaligned.hv'\n",
    "\n",
    "full_fdg_sino = pet.AcquisitionData(fname_FDG_sino)\n",
    "fdg_sino = full_fdg_sino.rebin(3)\n",
    "fdg_uMap = pet.ImageData(fname_FDG_uMap)\n",
    "\n",
    "full_amyl_sino = pet.AcquisitionData(fname_amyl_sino)\n",
    "amyl_sino = full_amyl_sino.rebin(3)\n",
    "amyl_uMap = pet.ImageData(fname_amyl_uMap)\n",
    "\n",
    "fdg_init_image=fdg_uMap.get_uniform_copy(fdg_uMap.as_array().max()*.1)\n",
    "make_cylindrical_FOV(fdg_init_image)\n",
    "\n",
    "amyl_init_image=amyl_uMap.get_uniform_copy(amyl_uMap.as_array().max()*.1)\n",
    "make_cylindrical_FOV(amyl_init_image)"
   ]
  },
  {
   "cell_type": "markdown",
   "metadata": {},
   "source": [
    "# 0c. Set up normal reconstruction stuff"
   ]
  },
  {
   "cell_type": "code",
   "execution_count": null,
   "metadata": {},
   "outputs": [],
   "source": [
    "# Code to set up objective function and OSEM recontsructors\n",
    "def get_obj_fun(acquired_data, atten):\n",
    "    print('\\n------------- Setting up objective function')\n",
    "    #     #%% create objective function\n",
    "    #%% create acquisition model\n",
    "    am = pet.AcquisitionModelUsingRayTracingMatrix()\n",
    "    am.set_num_tangential_LORs(5)\n",
    "\n",
    "    # Set up sensitivity due to attenuation\n",
    "    asm_attn = pet.AcquisitionSensitivityModel(atten, am)\n",
    "    asm_attn.set_up(acquired_data)\n",
    "    bin_eff = pet.AcquisitionData(acquired_data)\n",
    "    bin_eff.fill(1.0)\n",
    "    asm_attn.unnormalise(bin_eff)\n",
    "    asm_attn = pet.AcquisitionSensitivityModel(bin_eff)\n",
    "\n",
    "    # Set sensitivity of the model and set up\n",
    "    am.set_acquisition_sensitivity(asm_attn)\n",
    "    am.set_up(acquired_data,atten);\n",
    "\n",
    "    #%% create objective function\n",
    "    obj_fun = pet.make_Poisson_loglikelihood(acquired_data)\n",
    "    obj_fun.set_acquisition_model(am)\n",
    "\n",
    "    print('\\n------------- Finished setting up objective function')\n",
    "    return obj_fun\n",
    "\n",
    "def get_reconstructor(num_subsets, num_subiters, obj_fun, init_image):\n",
    "    print('\\n------------- Setting up reconstructor') \n",
    "\n",
    "    #%% create OSEM reconstructor\n",
    "    OSEM_reconstructor = pet.OSMAPOSLReconstructor()\n",
    "    OSEM_reconstructor.set_objective_function(obj_fun)\n",
    "    OSEM_reconstructor.set_num_subsets(num_subsets)\n",
    "    OSEM_reconstructor.set_num_subiterations(num_subiters)\n",
    "\n",
    "    #%% initialise\n",
    "    OSEM_reconstructor.set_up(init_image)\n",
    "    \n",
    "    print('\\n------------- Finished setting up reconstructor')\n",
    "    return OSEM_reconstructor"
   ]
  },
  {
   "cell_type": "code",
   "execution_count": null,
   "metadata": {},
   "outputs": [],
   "source": [
    "num_subsets = 21\n",
    "num_subiters = 42"
   ]
  },
  {
   "cell_type": "code",
   "execution_count": null,
   "metadata": {},
   "outputs": [],
   "source": [
    "# create initial image\n",
    "osem_fdg=fdg_init_image.clone()\n",
    "fdg_obj_fn = get_obj_fun(fdg_sino,fdg_uMap)\n",
    "fdg_reconstructor = get_reconstructor(num_subsets,num_subiters,fdg_obj_fn,fdg_init_image)\n",
    "fdg_reconstructor.reconstruct(osem_fdg)\n",
    "\n",
    "# create initial image\n",
    "osem_amyl=amyl_init_image.clone()\n",
    "amyl_obj_fn = get_obj_fun(amyl_sino,amyl_uMap)\n",
    "amyl_reconstructor = get_reconstructor(num_subsets,num_subiters,amyl_obj_fn,amyl_init_image)\n",
    "amyl_reconstructor.reconstruct(osem_amyl)\n",
    "\n",
    "plt.figure();\n",
    "subplot_([1,2,1],osem_fdg.as_array()[60,:,:],\"FDG\")\n",
    "subplot_([1,2,2],osem_amyl.as_array()[60,:,:],\"Amyloid\")"
   ]
  },
  {
   "cell_type": "markdown",
   "metadata": {},
   "source": [
    "# 2. Register images"
   ]
  },
  {
   "cell_type": "code",
   "execution_count": null,
   "metadata": {},
   "outputs": [],
   "source": [
    "# Some more code goes here\n",
    "registration = Reg.NiftyAladinSym()\n",
    "registration.set_reference_image(osem_fdg)\n",
    "registration.set_floating_image(osem_amyl)\n",
    "registration.set_parameter('SetPerformRigid','1')\n",
    "registration.set_parameter('SetPerformAffine','0')\n",
    "registration.set_parameter('SetWarpedPaddingValue','0')\n",
    "registration.process()\n",
    "tm_amyl_to_fdg = registration.get_transformation_matrix_forward()\n",
    "tm_fdg_to_amyl = tm_amyl_to_fdg.get_inverse()\n",
    "amyl_registered_to_fdg = registration.get_output()\n",
    "\n",
    "plt.figure();\n",
    "subplot_([1,2,1],osem_fdg.as_array()[60,:,:],\"FDG\")\n",
    "subplot_([1,2,2],amyl_registered_to_fdg.as_array()[60,:,:],\"Amyloid in FDG space\")"
   ]
  },
  {
   "cell_type": "markdown",
   "metadata": {},
   "source": [
    "# 3. A resample function?"
   ]
  },
  {
   "cell_type": "code",
   "execution_count": null,
   "metadata": {},
   "outputs": [],
   "source": [
    "# How about a bit of code here?\n",
    "def resample(tm, flo, ref):\n",
    "    resampler = Reg.NiftyResample()\n",
    "    resampler.set_reference_image(ref)\n",
    "    resampler.set_floating_image(flo)\n",
    "    resampler.set_interpolation_type_to_linear()\n",
    "    resampler.set_padding_value(0)\n",
    "    resampler.add_transformation(tm)\n",
    "    resampler.process()\n",
    "    return resampler.get_output()"
   ]
  },
  {
   "cell_type": "markdown",
   "metadata": {},
   "source": [
    "# 4. Maybe some de Pierro functions"
   ]
  },
  {
   "cell_type": "markdown",
   "metadata": {},
   "source": [
    "Copy lines from the \"no motion case\""
   ]
  },
  {
   "cell_type": "markdown",
   "metadata": {},
   "source": [
    "# 5. Are we ready?"
   ]
  },
  {
   "cell_type": "code",
   "execution_count": null,
   "metadata": {},
   "outputs": [],
   "source": [
    "beta = 0.1\n",
    "\n",
    "# Final code!\n",
    "\n",
    "# create initial image\n",
    "fdg_obj_fn = get_obj_fun(fdg_sino,fdg_uMap)\n",
    "fdg_reconstructor = get_reconstructor(num_subsets,num_subiters,fdg_obj_fn,fdg_init_image)\n",
    "amyl_obj_fn = get_obj_fun(amyl_sino,amyl_uMap)\n",
    "amyl_reconstructor = get_reconstructor(num_subsets,num_subiters,amyl_obj_fn,amyl_init_image)\n",
    "\n",
    "current_fdg_image = fdg_init_image.clone()\n",
    "current_amyl_image = amyl_init_image.clone()\n",
    "\n",
    "all_images_fdg = numpy.ndarray(shape=(num_subiters+1,) + current_fdg_image.as_array().shape );\n",
    "all_images_amyl = numpy.ndarray(shape=(num_subiters+1,) + current_amyl_image.as_array().shape );\n",
    "\n",
    "all_images_fdg[0,:,:,:] = current_fdg_image.as_array();\n",
    "all_images_amyl[0,:,:,:] = current_amyl_image.as_array();\n",
    "\n",
    "for iter in range(1, num_subiters+1):\n",
    "    start_time = time.time()\n",
    "\n",
    "    # Update FDG weights as fn. of amyloid image\n",
    "    current_amyl_in_fdg_space = resample(tm_amyl_to_fdg,current_amyl_image,current_fdg_image)\n",
    "    weights_fdg = update_bowsher_weights(fdg_prior,current_amyl_in_fdg_space,num_bowsher_neighbours)\n",
    "    \n",
    "    # Do FDG de Pierro update\n",
    "    current_fdg_image = MAPEM_iteration(fdg_reconstructor,current_fdg_image,weights_fdg,nhoodIndVec_fdg,beta)\n",
    "    all_images_fdg[iter,:,:,:] = current_fdg_image.as_array();\n",
    "    \n",
    "    # Now update the amyloid weights as fn. of FDG image\n",
    "    currentl_fdg_in_amyl_space = resample(tm_fdg_to_amyl,current_fdg_image,current_amyl_image)\n",
    "    weights_amyl = update_bowsher_weights(amyl_prior,current_fdg_image,num_bowsher_neighbours)\n",
    "    \n",
    "    # And do amyloid de Pierro update\n",
    "    current_amyl_image = MAPEM_iteration(amyl_reconstructor,current_amyl_image,weights_amyl,nhoodIndVec_amyl,beta)\n",
    "    all_images_amyl[iter,:,:,:] = current_amyl_image.as_array();\n",
    "    \n",
    "    print('\\n------------- Subiteration %i finished in %i s.' % (iter, time.time() - start_time))"
   ]
  },
  {
   "cell_type": "code",
   "execution_count": null,
   "metadata": {},
   "outputs": [],
   "source": [
    "#%% now call this function to see how we went along\n",
    "plt.figure()\n",
    "subiterations = (1,2,4,8,16,32,42);\n",
    "plot_progress_compare([all_images_fdg],[all_images_amyl], ['FDG MAPEM'], ['Amyloid MAPEM'],subiterations, all_images_fdg.max());"
   ]
  }
 ],
 "metadata": {
  "kernelspec": {
   "display_name": "Python 3",
   "language": "python",
   "name": "python3"
  },
  "language_info": {
   "codemirror_mode": {
    "name": "ipython"
   },
   "file_extension": ".py",
   "mimetype": "text/x-python",
   "name": "python",
   "nbconvert_exporter": "python"
  }
 },
 "nbformat": 4,
 "nbformat_minor": 2
}
