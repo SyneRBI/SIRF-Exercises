{
 "cells": [
  {
   "cell_type": "markdown",
   "metadata": {},
   "source": [
    "# Dual PET tracer MAP-EM with Bowsher no motion\n",
    "This notebook fleshes out the skeleton for the challenge set in the [../Dual_PET notebook](../Dual_PET.ipynb), not including motion.\n",
    "\n",
    "Authors: Richard Brown, Sam Ellis, Casper da Costa-Luis, Kris Thielemans  \n",
    "First version: 2nd of November 2019  \n",
    "Second version June 2021\n",
    "\n",
    "CCP PETMR Synergistic Image Reconstruction Framework (SIRF)  \n",
    "Copyright 2019, 2021  University College London  \n",
    "Copyright 2019  King's College London  \n",
    "\n",
    "This is software developed for the Collaborative Computational\n",
    "Project in Synergistic Reconstruction for Biomedical Imaging.\n",
    "(http://www.synerbi.ac.uk/).\n",
    "\n",
    "SPDX-License-Identifier: Apache-2.0"
   ]
  },
  {
   "cell_type": "markdown",
   "metadata": {},
   "source": [
    "# 0a. Some includes and imshow-esque functions"
   ]
  },
  {
   "cell_type": "code",
   "execution_count": null,
   "metadata": {},
   "outputs": [],
   "source": [
    "# All the normal stuff you've already seen\n",
    "import notebook_setup\n",
    "\n",
    "#%% Initial imports etc\n",
    "import numpy\n",
    "import matplotlib.pyplot as plt\n",
    "import os\n",
    "import sys\n",
    "import shutil\n",
    "from tqdm.auto import tqdm, trange\n",
    "import time\n",
    "from numba import jit\n",
    "import sirf.STIR as pet\n",
    "from sirf_exercises import exercises_data_path\n",
    "import sirf.Reg as Reg\n",
    "import sirf.contrib.kcl.Prior as pr\n",
    "\n",
    "# plotting settings\n",
    "plt.ion() # interactive 'on' such that plots appear during loops\n",
    "\n",
    "%matplotlib widget\n",
    "\n",
    "#%% some handy function definitions\n",
    "def imshow(image, limits=None, title=''):\n",
    "    \"\"\"Usage: imshow(image, [min,max], title)\"\"\"\n",
    "    plt.title(title)\n",
    "    bitmap = plt.imshow(image)\n",
    "    if limits is None:\n",
    "        limits = [image.min(), image.max()]\n",
    "\n",
    "    plt.clim(limits[0], limits[1])\n",
    "    plt.colorbar(shrink=.6)\n",
    "    plt.axis('off')\n",
    "    return bitmap\n",
    "\n",
    "def make_cylindrical_FOV(image):\n",
    "    \"\"\"truncate to cylindrical FOV\"\"\"\n",
    "    filter = pet.TruncateToCylinderProcessor()\n",
    "    filter.apply(image)   \n",
    "\n",
    "#%% define a function for plotting images and the updates\n",
    "# This is the same function as in `ML_reconstruction`\n",
    "def plot_progress(all_images1,all_images2, title1, title2, subiterations, cmax):\n",
    "    if len(subiterations)==0:\n",
    "        num_subiters = all_images1[0].shape[0]-1\n",
    "        subiterations = range(1, num_subiters+1);\n",
    "    num_rows = len(all_images1);\n",
    "    slice = 60\n",
    "    for iter in subiterations:\n",
    "        plt.figure()\n",
    "        for r in range(num_rows):\n",
    "            plt.subplot(num_rows,2,2*r+1)\n",
    "            imshow(all_images1[r][iter,slice,:,:], [0,cmax], '%s at %d' % (title1[r],  iter))\n",
    "            plt.subplot(num_rows,2,2*r+2)\n",
    "            imshow(all_images2[r][iter,slice,:,:], [0,cmax], '%s at %d' % (title2[r],  iter))\n",
    "        plt.show();  \n",
    "\n",
    "def subplot_(idx,vol,title,clims=None,cmap=\"viridis\"):\n",
    "    plt.subplot(*idx)\n",
    "    plt.imshow(vol,cmap=cmap)\n",
    "    if not clims is None:\n",
    "        plt.clim(clims)\n",
    "    plt.colorbar()\n",
    "    plt.title(title)\n",
    "    plt.axis(\"off\")"
   ]
  },
  {
   "cell_type": "markdown",
   "metadata": {},
   "source": [
    "# 0b. Input data"
   ]
  },
  {
   "cell_type": "markdown",
   "metadata": {},
   "source": [
    "Note, we `rebin` the data here to combine 5 segments into 1. This might still be too slow, so feel free to rebin it even more. (or of course, less)."
   ]
  },
  {
   "cell_type": "code",
   "execution_count": null,
   "metadata": {},
   "outputs": [],
   "source": [
    "# Setup the working directory for the notebook\n",
    "import notebook_setup\n",
    "# Get to correct directory\n",
    "os.chdir(exercises_data_path('Synergistic'))\n",
    "\n",
    "# copy files to working folder and change directory to where the output files are\n",
    "shutil.rmtree('working_folder/dual_PET_noMotion',True)\n",
    "shutil.copytree('Brainweb','working_folder/dual_PET_noMotion')\n",
    "os.chdir('working_folder/dual_PET_noMotion')\n",
    "\n",
    "fname_FDG_sino = 'FDG_sino_noisy.hs'\n",
    "fname_FDG_uMap = 'uMap_small.hv'\n",
    "# No motion filenames\n",
    "fname_amyl_sino = 'amyl_sino_noisy.hs'\n",
    "fname_amyl_uMap = 'uMap_small.hv'\n",
    "# Motion filenames\n",
    "# fname_amyl_sino = 'amyl_sino_noisy_misaligned.hs'\n",
    "# fname_amyl_uMap = 'uMap_misaligned.hv'\n",
    "\n",
    "full_fdg_sino = pet.AcquisitionData(fname_FDG_sino)\n",
    "fdg_sino = full_fdg_sino.rebin(5)\n",
    "fdg_uMap = pet.ImageData(fname_FDG_uMap)\n",
    "\n",
    "full_amyl_sino = pet.AcquisitionData(fname_amyl_sino)\n",
    "amyl_sino = full_amyl_sino.rebin(5)\n",
    "amyl_uMap = pet.ImageData(fname_amyl_uMap)\n",
    "\n",
    "fdg_init_image=fdg_uMap.get_uniform_copy(1)\n",
    "make_cylindrical_FOV(fdg_init_image)\n",
    "\n",
    "amyl_init_image=amyl_uMap.get_uniform_copy(1)\n",
    "make_cylindrical_FOV(amyl_init_image)"
   ]
  },
  {
   "cell_type": "markdown",
   "metadata": {},
   "source": [
    "check some sizes"
   ]
  },
  {
   "cell_type": "code",
   "execution_count": null,
   "metadata": {},
   "outputs": [],
   "source": [
    "print(fdg_sino.get_info())"
   ]
  },
  {
   "cell_type": "markdown",
   "metadata": {},
   "source": [
    "# 0c. Set up normal reconstruction stuff"
   ]
  },
  {
   "cell_type": "code",
   "execution_count": null,
   "metadata": {},
   "outputs": [],
   "source": [
    "# Code to set up objective function and OSEM recontsructors\n",
    "def get_obj_fun(acquired_data, atten):\n",
    "    print('\\n------------- Setting up objective function')\n",
    "    #     #%% create objective function\n",
    "    #%% create acquisition model\n",
    "    am = pet.AcquisitionModelUsingRayTracingMatrix()\n",
    "    am.set_num_tangential_LORs(5)\n",
    "\n",
    "    # Set up sensitivity due to attenuation\n",
    "    asm_attn = pet.AcquisitionSensitivityModel(atten, am)\n",
    "    asm_attn.set_up(acquired_data)\n",
    "    bin_eff = pet.AcquisitionData(acquired_data)\n",
    "    bin_eff.fill(1.0)\n",
    "    asm_attn.unnormalise(bin_eff)\n",
    "    asm_attn = pet.AcquisitionSensitivityModel(bin_eff)\n",
    "\n",
    "    # Set sensitivity of the model and set up\n",
    "    am.set_acquisition_sensitivity(asm_attn)\n",
    "    #am.set_up(acquired_data,atten);\n",
    "\n",
    "    #%% create objective function\n",
    "    obj_fun = pet.make_Poisson_loglikelihood(acquired_data)\n",
    "    obj_fun.set_acquisition_model(am)\n",
    "\n",
    "    print('\\n------------- Finished setting up objective function')\n",
    "    return obj_fun\n",
    "\n",
    "def get_reconstructor(num_subsets, num_subiters, obj_fun, init_image):\n",
    "    print('\\n------------- Setting up reconstructor') \n",
    "\n",
    "    #%% create OSEM reconstructor\n",
    "    OSEM_reconstructor = pet.OSMAPOSLReconstructor()\n",
    "    OSEM_reconstructor.set_objective_function(obj_fun)\n",
    "    OSEM_reconstructor.set_num_subsets(num_subsets)\n",
    "    OSEM_reconstructor.set_num_subiterations(num_subiters)\n",
    "\n",
    "    #%% initialise\n",
    "    OSEM_reconstructor.set_up(init_image)\n",
    "\n",
    "    print('\\n------------- Finished setting up reconstructor')\n",
    "    return OSEM_reconstructor"
   ]
  },
  {
   "cell_type": "code",
   "execution_count": null,
   "metadata": {},
   "outputs": [],
   "source": [
    "num_subsets = 21\n",
    "num_subiters = 42"
   ]
  },
  {
   "cell_type": "markdown",
   "metadata": {},
   "source": [
    "# 1. Two individual reconstructions *"
   ]
  },
  {
   "cell_type": "code",
   "execution_count": null,
   "metadata": {},
   "outputs": [],
   "source": [
    "# Some code goes here"
   ]
  },
  {
   "cell_type": "markdown",
   "metadata": {},
   "source": [
    "# 2. Register images *"
   ]
  },
  {
   "cell_type": "code",
   "execution_count": null,
   "metadata": {},
   "outputs": [],
   "source": [
    "# Some more code goes here"
   ]
  },
  {
   "cell_type": "markdown",
   "metadata": {},
   "source": [
    "# 3. A resample function? *"
   ]
  },
  {
   "cell_type": "code",
   "execution_count": null,
   "metadata": {},
   "outputs": [],
   "source": [
    "# How about a bit of code here?"
   ]
  },
  {
   "cell_type": "markdown",
   "metadata": {},
   "source": [
    "# 4. Maybe some de Pierro MAP-EM functions"
   ]
  },
  {
   "cell_type": "markdown",
   "metadata": {},
   "source": [
    "Copy the MAPEM functions here"
   ]
  },
  {
   "cell_type": "code",
   "execution_count": null,
   "metadata": {},
   "outputs": [],
   "source": [
    "fdg_prior = pr.Prior(fdg_init_image.shape)\n",
    "amyl_prior = pr.Prior(amyl_init_image.shape)\n",
    "\n",
    "num_bowsher_neighbours = 7\n",
    "\n",
    "weights_fdg = update_bowsher_weights(fdg_prior,amyl_init_image,num_bowsher_neighbours)\n",
    "weights_amyl = update_bowsher_weights(amyl_prior,fdg_init_image,num_bowsher_neighbours)\n",
    "\n",
    "# compute indices of the neighbourhood\n",
    "nhoodIndVec_fdg=compute_nhoodIndVec(fdg_init_image.shape,weights_fdg.shape)\n",
    "nhoodIndVec_amyl=compute_nhoodIndVec(amyl_init_image.shape,weights_amyl.shape)"
   ]
  },
  {
   "cell_type": "markdown",
   "metadata": {},
   "source": [
    "You will probably see a run-time warning about `divide by zero` when executing the cell above. This is fine, as it is actually handled in the `Prior` case."
   ]
  },
  {
   "cell_type": "markdown",
   "metadata": {},
   "source": [
    "# 5. Are we ready?"
   ]
  },
  {
   "cell_type": "code",
   "execution_count": null,
   "metadata": {},
   "outputs": [],
   "source": [
    "beta = 0.1"
   ]
  },
  {
   "cell_type": "code",
   "execution_count": null,
   "metadata": {},
   "outputs": [],
   "source": [
    "fdg_obj_fn = get_obj_fun(fdg_sino,fdg_uMap)\n",
    "fdg_reconstructor = get_reconstructor(num_subsets,num_subiters,fdg_obj_fn,fdg_init_image)\n",
    "amyl_obj_fn = get_obj_fun(amyl_sino,amyl_uMap)\n",
    "amyl_reconstructor = get_reconstructor(num_subsets,num_subiters,amyl_obj_fn,amyl_init_image)"
   ]
  },
  {
   "cell_type": "code",
   "execution_count": null,
   "metadata": {},
   "outputs": [],
   "source": [
    "num_subiters=42"
   ]
  },
  {
   "cell_type": "code",
   "execution_count": null,
   "metadata": {},
   "outputs": [],
   "source": [
    "current_fdg_image = fdg_init_image.clone()\n",
    "current_amyl_image = amyl_init_image.clone()\n",
    "\n",
    "all_images_fdg = numpy.ndarray(shape=(num_subiters+1,) + current_fdg_image.as_array().shape)\n",
    "all_images_amyl = numpy.ndarray(shape=(num_subiters+1,) + current_amyl_image.as_array().shape)\n",
    "\n",
    "all_images_fdg[0,:,:,:] = current_fdg_image.as_array()\n",
    "all_images_amyl[0,:,:,:] = current_amyl_image.as_array()\n",
    "\n",
    "for it in trange(1, num_subiters+1):\n",
    "    print('outer iteration {}'.format(it))\n",
    "    print('Update FDG weights as fn. of amyloid image')\n",
    "    weights_fdg = update_bowsher_weights(fdg_prior,current_amyl_image,num_bowsher_neighbours)\n",
    "\n",
    "    print('Do FDG de Pierro update')\n",
    "    current_fdg_image = MAPEM_iteration(fdg_reconstructor,current_fdg_image,weights_fdg,nhoodIndVec_fdg,beta)\n",
    "    all_images_fdg[it,:,:,:] = current_fdg_image.as_array()\n",
    "\n",
    "    print('Update the amyloid weights as fn. of FDG image')\n",
    "    weights_amyl = update_bowsher_weights(amyl_prior,current_fdg_image,num_bowsher_neighbours)\n",
    "\n",
    "    print('Do amyloid de Pierro update')\n",
    "    current_amyl_image = MAPEM_iteration(amyl_reconstructor,current_amyl_image,weights_amyl,nhoodIndVec_amyl,beta)\n",
    "    all_images_amyl[it,:,:,:] = current_amyl_image.as_array();"
   ]
  },
  {
   "cell_type": "code",
   "execution_count": null,
   "metadata": {},
   "outputs": [],
   "source": [
    "#%% now call this function to see how we went along\n",
    "plt.figure()\n",
    "subiterations = (1,2,4,8,16,32,42)\n",
    "plot_progress([all_images_fdg],[all_images_amyl], ['FDG MAPEM'], ['Amyloid MAPEM'],subiterations, all_images_fdg.max()/2);"
   ]
  },
  {
   "cell_type": "markdown",
   "metadata": {},
   "source": [
    "# What now?\n",
    "Of course, you can go on to the include the motion estimation in this problem.\n",
    "\n",
    "The real problem is of course how you will decide if this is a good approach or not. You would have to compare to non-synergistic methods, and indeed other synergistic ones. We are looking forward to your next paper! :-)"
   ]
  }
 ],
 "metadata": {
  "interpreter": {
   "hash": "916dbcbb3f70747c44a77c7bcd40155683ae19c65e1c03b4aa3499c5328201f1"
  },
  "kernelspec": {
   "display_name": "Python 3.8.10 64-bit",
   "language": "python",
   "name": "python3"
  },
  "language_info": {
   "codemirror_mode": {
    "name": "ipython"
   },
   "file_extension": ".py",
   "mimetype": "text/x-python",
   "name": "python",
   "nbconvert_exporter": "python"
  }
 },
 "nbformat": 4,
 "nbformat_minor": 2
}
