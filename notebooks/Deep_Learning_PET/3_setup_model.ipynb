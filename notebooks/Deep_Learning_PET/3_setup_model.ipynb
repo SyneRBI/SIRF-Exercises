{
 "cells": [
  {
   "cell_type": "markdown",
   "metadata": {},
   "source": [
    "Setting up the DL model.\n",
    "\n",
    "This demo is a jupyter notebook, i.e. intended to be run step by step.\n",
    "\n",
    "Author: Imraj Singh\n",
    "\n",
    "First version: 20th of May 2022\n",
    "\n",
    "CCP SyneRBI Synergistic Image Reconstruction Framework (SIRF).\n",
    "Copyright 2022 University College London.\n",
    "\n",
    "This is software developed for the Collaborative Computational Project in Synergistic Reconstruction for Biomedical Imaging (http://www.ccpsynerbi.ac.uk/).\n",
    "\n",
    "Licensed under the Apache License, Version 2.0 (the \"License\"); you may not use this file except in compliance with the License. You may obtain a copy of the License at http://www.apache.org/licenses/LICENSE-2.0 Unless required by applicable law or agreed to in writing, software distributed under the License is distributed on an \"AS IS\" BASIS, WITHOUT WARRANTIES OR CONDITIONS OF ANY KIND, either express or implied. See the License for the specific language governing permissions and limitations under the License.\n",
    "\n",
    "# Setting up the model\n",
    "\n",
    "This implementation is taken from [Learned Primal Dual PyTorch implementation](https://github.com/cetmann/pytorch-primaldual) and changed somewhat for our needs."
   ]
  },
  {
   "cell_type": "markdown",
   "metadata": {},
   "source": [
    "First we import the prerequisite packages."
   ]
  },
  {
   "cell_type": "code",
   "execution_count": null,
   "metadata": {},
   "outputs": [],
   "source": [
    "# Import the PET reconstruction engine\n",
    "import sirf.STIR as pet\n",
    "# Set the verbosity\n",
    "pet.set_verbosity(1)\n",
    "# Store tempory sinograms in RAM\n",
    "pet.AcquisitionData.set_storage_scheme(\"memory\")\n",
    "# Import a file that can generate the shepp logan phantom\n",
    "from odl_funcs.ellipses import EllipsesDataset\n",
    "import sirf\n",
    "msg = sirf.STIR.MessageRedirector(info=None, warn=None, errr=None)\n",
    "# Import standard extra packages\n",
    "import matplotlib.pyplot as plt\n",
    "import os\n",
    "import numpy as np\n",
    "import time\n",
    "import torch\n",
    "device = torch.device(\"cuda\" if torch.cuda.is_available() else \"cpu\")\n",
    "\n",
    "size_xy = 128\n",
    "from sirf.Utilities import examples_data_path\n",
    "sinogram_template = pet.AcquisitionData(examples_data_path('PET')\\\n",
    "                                        + '/thorax_single_slice/template_sinogram.hs');\n",
    "# create acquisition model\n",
    "acq_model = pet.AcquisitionModelUsingParallelproj();\n",
    "image_template = sinogram_template.create_uniform_image(1.0,size_xy);\n",
    "acq_model.set_up(sinogram_template,image_template);"
   ]
  },
  {
   "cell_type": "markdown",
   "metadata": {},
   "source": [
    "Let's investigate the number of parameters used in the network"
   ]
  },
  {
   "cell_type": "code",
   "execution_count": null,
   "metadata": {},
   "outputs": [],
   "source": [
    "from lpd_net import LearnedPrimalDual\n",
    "\n",
    "# Import model\n",
    "model = LearnedPrimalDual(image_template, sinogram_template,\\\n",
    "                          acq_model, n_iter = 5, n_primal = 5, n_dual = 5).to(device)\n",
    "params = 0\n",
    "for name, param in model.named_parameters():\n",
    "    if param.requires_grad:\n",
    "        params += len(param.data) \n",
    "print(str(params) + \" trainable parameters\")"
   ]
  },
  {
   "cell_type": "markdown",
   "metadata": {},
   "source": [
    "How would one see the trainable parameters in each part of the neural network?"
   ]
  },
  {
   "cell_type": "code",
   "execution_count": null,
   "metadata": {},
   "outputs": [],
   "source": [
    "# Answer below!\n",
    "\n",
    "\n",
    "\n",
    "\n",
    "\n",
    "\n",
    "\n",
    "\n",
    "\n",
    "\n",
    "\n",
    "\n",
    "\n",
    "\n",
    "\n",
    "\n",
    "\n",
    "\n",
    "\n",
    "\n",
    "\n",
    "\n",
    "\n",
    "\n",
    "\n",
    "\n",
    "\n",
    "for name, param in model.named_parameters():\n",
    "    if param.requires_grad:\n",
    "        print(name, len(param.data))"
   ]
  }
 ],
 "metadata": {
  "kernelspec": {
   "display_name": "Python 3 (ipykernel)",
   "language": "python",
   "name": "python3"
  },
  "language_info": {
   "codemirror_mode": {
    "name": "ipython"
   },
   "file_extension": ".py",
   "mimetype": "text/x-python",
   "name": "python",
   "nbconvert_exporter": "python"
  },
  "vscode": {
   "interpreter": {
    "hash": "cee20aa2885cadc07e824ce5082d40bca942426616eda434cad5578791d33ff8"
   }
  }
 },
 "nbformat": 4,
 "nbformat_minor": 4
}
