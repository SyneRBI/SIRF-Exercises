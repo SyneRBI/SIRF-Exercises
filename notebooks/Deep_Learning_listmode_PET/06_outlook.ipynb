{
 "cells": [
  {
   "cell_type": "markdown",
   "id": "046e9138",
   "metadata": {},
   "source": [
    "Outlook\n",
    "=======\n",
    "\n",
    "Congratulations, you made through all the notebooks and should\n",
    "now be able to understand the basics of deep learning for (listmode) PET reconstruction.\n",
    "\n",
    "Follow-up questions / proposals to think about\n",
    "----------------------------------------------\n",
    "\n",
    "1. How could we incorporate training on mini-batches with a batch size greater than 1?\n",
    "2. What happens if we increase the number of unrolled blocks in the variational network?\n",
    "3. What is the impact on the CNN size / architecture and the loss function in the variational network?\n",
    "4. Most neural networks work best if the image intensities are normalized. How could we include this in the training process?\n",
    "\n",
    "Training speed\n",
    "--------------\n",
    "\n",
    "Currently, the training is quite slow due to several reasons:\n",
    "- the listmode projections are currently performed on the CPU\n",
    "- there is a lot of memory transfer between CPU and GPU during training (OSEM block on CPU, CNN on GPU)\n",
    "\n",
    "**However,** SIRF and STIR are community projects that are constantly being improved.\n",
    "So, it is likely that the training speed will increase in the future."
   ]
  }
 ],
 "metadata": {
  "jupytext": {
   "cell_metadata_filter": "-all",
   "main_language": "python",
   "notebook_metadata_filter": "-all"
  }
 },
 "nbformat": 4,
 "nbformat_minor": 5
}
