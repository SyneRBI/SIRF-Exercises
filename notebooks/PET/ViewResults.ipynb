{
 "cells": [
  {
   "cell_type": "code",
   "execution_count": null,
   "metadata": {},
   "outputs": [],
   "source": [
    "#%% Initial imports etc\n",
    "import numpy\n",
    "from numpy.linalg import norm\n",
    "import matplotlib.pyplot as plt\n",
    "import matplotlib.animation as animation\n",
    "import os\n",
    "import sys\n",
    "import shutil\n",
    "\n",
    "from ccpi.utilities.jupyter import *\n",
    "from ccpi.utilities.display import *\n",
    "\n",
    "#%% Use the 'pet' prefix for all STIR-based SIRF functions\n",
    "# This is done here to explicitly differentiate between SIRF pet functions and \n",
    "# anything else.\n",
    "import sirf.STIR as pet\n",
    "from sirf.Utilities import examples_data_path\n",
    "\n",
    "import sirf.Reg as Reg\n",
    "from scipy.spatial.transform import Rotation as R\n",
    "from ccpi.optimisation.operators import CompositionOperator, BlockOperator, LinearOperator\n",
    "\n",
    "from ccpi.plugins.regularisers import FGP_TV\n",
    "\n",
    "\n",
    "def add_noise(counts, sinogram):\n",
    "    sino_arr = sinogram.as_array()\n",
    "    minmax = (sino_arr.min(), sino_arr.max())\n",
    "\n",
    "    counts = 300\n",
    "    sino_arr = counts * (sino_arr / minmax[1])\n",
    "    noisy_counts = sinogram * 0.\n",
    "    noisy_counts.fill( numpy.random.poisson(sino_arr) )\n",
    "    \n",
    "    return noisy_counts\n",
    "\n",
    "\n",
    "pet.AcquisitionData.set_storage_scheme('memory')\n",
    "\n",
    "#%% Go to directory with input files\n",
    "# Adapt this path to your situation (or start everything in the relevant directory)\n",
    "os.chdir(examples_data_path('PET'))\n",
    "\n",
    "#%% Copy files to a working folder and change directory to where these files are.\n",
    "# We do this to avoid cluttering your SIRF files. This way, you can delete \n",
    "# working_folder and start from scratch.\n",
    "if False:\n",
    "    shutil.rmtree('working_folder/brain',True)\n",
    "    shutil.copytree('brain','working_folder/brain')\n",
    "os.chdir('working_folder/brain')\n",
    "\n",
    "#%% Read in images\n",
    "# Here we will read some images provided with the demo using the ImageData class.\n",
    "# These are in Interfile format. (A text header pointing to a .v file with the binary data).\n",
    "image = pet.ImageData('emission.hv')\n",
    "mu_map = pet.ImageData('attenuation.hv')\n",
    "\n",
    "#%% Create a SIRF acquisition model\n",
    "# We will use the ray-tracing matrix here as our simple PET model.\n",
    "# There is more to the accquisition model, but that's for another demo.\n",
    "am = pet.AcquisitionModelUsingRayTracingMatrix()\n",
    "# Ask STIR to use 5 LORs per sinogram-element\n",
    "am.set_num_tangential_LORs(5)\n",
    "\n",
    "#%% Specify sinogram dimensions\n",
    "# We need to say what scanner to use, what dimensions etc.\n",
    "# You do this by using existing PET data as a 'template'. \n",
    "# Here, we read a file supplied with the demo as an AcquisitionData object\n",
    "templ = pet.AcquisitionData('template_sinogram.hs')\n",
    "# Now set-up our acquisition model with all information that it needs about the data and image.\n",
    "am.set_up(templ,image)\n"
   ]
  },
  {
   "cell_type": "code",
   "execution_count": null,
   "metadata": {},
   "outputs": [],
   "source": [
    "%ls\n",
    "#plotter2D??"
   ]
  },
  {
   "cell_type": "code",
   "execution_count": null,
   "metadata": {},
   "outputs": [],
   "source": [
    "mcir_no_TV = pet.ImageData('PDHG_MCIR_noNoise_Motion_1000it_TV0.hv')\n",
    "mcir_TV = pet.ImageData('PDHG_MCIR_noNoise_Motion_1000it_TV05.hv')\n",
    "no_mcir = pet.ImageData('PDHG_noMCIR_noNoise_Motion_1000it_TV0.hv')\n",
    "no_motion = pet.ImageData('PDHG_noMCIR_noNoise_noMotion_1000it_TV0.hv')\n",
    "\n",
    "print (image.shape)\n",
    "%matplotlib inline\n",
    "plotter2D([vv.as_array()[12] for vv in [image, no_motion, mcir_no_TV, mcir_TV, no_mcir ] ] , \n",
    "          titles=['Ground Truth', 'No Motion' , 'MCIR Positivity Constraint', 'MCIR FGP TV', 'No MCIR' ] , cmap = 'inferno')\n",
    "\n"
   ]
  },
  {
   "cell_type": "code",
   "execution_count": null,
   "metadata": {},
   "outputs": [],
   "source": [
    "import matplotlib.pyplot as plt\n",
    "%matplotlib inline\n",
    "lines = [vv.as_array()[5][100] for vv in [image, no_motion, mcir_no_TV, mcir_TV, no_mcir ] ]\n",
    "#print (lines[0])\n",
    "plt.plot(lines[0], label=\"Ground Truth\")\n",
    "plt.plot(lines[1], label=\"No motion\")\n",
    "plt.plot(lines[2], label=\"MCIR G>0\")\n",
    "plt.plot(lines[3], label=\"MCIR TV\")\n",
    "plt.plot(lines[4], label=\"No MCIR\")\n",
    "plt.legend()\n",
    "#plt.label('Ground Truth')\n",
    "plt.show()"
   ]
  },
  {
   "cell_type": "code",
   "execution_count": null,
   "metadata": {},
   "outputs": [],
   "source": []
  }
 ],
 "metadata": {
  "kernelspec": {
   "display_name": "Python 2",
   "language": "python",
   "name": "python2"
  },
  "language_info": {
   "codemirror_mode": {
    "name": "ipython"
   },
   "file_extension": ".py",
   "mimetype": "text/x-python",
   "name": "python",
   "nbconvert_exporter": "python"
  }
 },
 "nbformat": 4,
 "nbformat_minor": 2
}
