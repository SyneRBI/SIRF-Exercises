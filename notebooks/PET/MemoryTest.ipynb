{
 "cells": [
  {
   "cell_type": "code",
   "execution_count": null,
   "metadata": {},
   "outputs": [],
   "source": [
    "#%% Initial imports etc\n",
    "import numpy\n",
    "from numpy.linalg import norm\n",
    "import matplotlib.pyplot as plt\n",
    "import matplotlib.animation as animation\n",
    "import os\n",
    "import sys\n",
    "import shutil\n",
    "\n",
    "import sirf.pyiutilities as pyiutil\n",
    "\n",
    "from ccpi.utilities.jupyter import *\n",
    "from ccpi.utilities.display import *\n",
    "\n",
    "#%% Use the 'pet' prefix for all STIR-based SIRF functions\n",
    "# This is done here to explicitly differentiate between SIRF pet functions and \n",
    "# anything else.\n",
    "import sirf.STIR as pet\n",
    "from sirf.Utilities import examples_data_path\n",
    "\n",
    "import os\n",
    "import psutil\n",
    "\n",
    "import sirf.Reg as Reg\n",
    "from sirf import SIRF\n",
    "\n",
    "process = psutil.Process(os.getpid())\n",
    "\n",
    "# schemes: file, memory\n",
    "pet.AcquisitionData.set_storage_scheme('file')\n",
    "\n",
    "#%% Go to directory with input files\n",
    "# Adapt this path to your situation (or start everything in the relevant directory)\n",
    "os.chdir(examples_data_path('PET'))\n",
    "\n",
    "#%% Copy files to a working folder and change directory to where these files are.\n",
    "# We do this to avoid cluttering your SIRF files. This way, you can delete \n",
    "# working_folder and start from scratch.\n",
    "if True:\n",
    "    shutil.rmtree('working_folder/memorytest',True)\n",
    "    shutil.copytree('brain','working_folder/memorytest')\n",
    "os.chdir('working_folder/memorytest')\n",
    "\n",
    "#%% Read in images\n",
    "# Here we will read some images provided with the demo using the ImageData class.\n",
    "# These are in Interfile format. (A text header pointing to a .v file with the binary data).\n",
    "image = pet.ImageData('emission.hv')\n",
    "\n",
    "#%% Create a SIRF acquisition model\n",
    "# We will use the ray-tracing matrix here as our simple PET model.\n",
    "# There is more to the accquisition model, but that's for another demo.\n",
    "am = pet.AcquisitionModelUsingRayTracingMatrix()\n",
    "# Ask STIR to use 5 LORs per sinogram-element\n",
    "am.set_num_tangential_LORs(5)\n",
    "\n",
    "#%% Specify sinogram dimensions\n",
    "# We need to say what scanner to use, what dimensions etc.\n",
    "# You do this by using existing PET data as a 'template'. \n",
    "# Here, we read a file supplied with the demo as an AcquisitionData object\n",
    "templ = pet.AcquisitionData('template_sinogram.hs')\n",
    "# Now set-up our acquisition model with all information that it needs about the data and image.\n",
    "am.set_up(templ,image)"
   ]
  },
  {
   "cell_type": "code",
   "execution_count": null,
   "metadata": {},
   "outputs": [],
   "source": [
    "i2 = image.copy()\n",
    "\n",
    "i2 = 0"
   ]
  },
  {
   "cell_type": "code",
   "execution_count": null,
   "metadata": {},
   "outputs": [],
   "source": [
    "\n",
    "\n",
    "mat4 = numpy.eye(4)\n",
    "tm = Reg.AffineTransformation(mat4)\n",
    "\n",
    "resampler = Reg.NiftyResample()\n",
    "resampler.set_reference_image(image)\n",
    "resampler.set_floating_image(image)\n",
    "resampler.add_transformation(tm)\n",
    "resampler.set_padding_value(0)\n",
    "resampler.set_interpolation_type_to_linear()"
   ]
  },
  {
   "cell_type": "code",
   "execution_count": null,
   "metadata": {},
   "outputs": [],
   "source": [
    "print ( issubclass(image, SIRF.DataContainer) )\n",
    "\n",
    "direct = resampler.direct(image)\n",
    "\n",
    "direct = 0\n",
    "\n",
    "adjoint = resampler.adjoint(image)\n",
    "adjoint = 0"
   ]
  },
  {
   "cell_type": "code",
   "execution_count": null,
   "metadata": {},
   "outputs": [],
   "source": [
    "memocc = []\n",
    "direct = resampler.direct(image)\n",
    "adjoint = resampler.adjoint(image)\n",
    "for i in range(100):\n",
    "    # new ImageData\n",
    "    resampler.direct(image, out=direct)\n",
    "    # new AcquisitionData\n",
    "    resampler.adjoint(direct, out=adjoint)\n",
    "#     f(image)\n",
    "    if i % 10 == 0 and i > 0:\n",
    "        memocc.append(process.memory_percent())\n",
    "        print(i, memocc[-1])"
   ]
  },
  {
   "cell_type": "code",
   "execution_count": null,
   "metadata": {},
   "outputs": [],
   "source": [
    "\n",
    "from scipy.spatial.transform import Rotation as R\n",
    "\n",
    "def get_resampler(directions, angles, image, degrees=True ):\n",
    "    '''example input 'zy', [87,13], degrees=True'''\n",
    "    r = R.from_euler(directions, angles, degrees=degrees)\n",
    "\n",
    "    mat = r.as_dcm()\n",
    "\n",
    "    mat4 = numpy.eye(4)\n",
    "    print (mat4.shape, mat4)\n",
    "\n",
    "    for i in range(3):\n",
    "        for j in range(3):\n",
    "            mat4[i][j] = mat[i][j]\n",
    "\n",
    "    tm = Reg.AffineTransformation(mat4)\n",
    "\n",
    "    mat = tm.as_array()\n",
    "\n",
    "    resampler = Reg.NiftyResample()\n",
    "    print (id(resampler), resampler.handle)\n",
    "    resampler.set_reference_image(image)\n",
    "    resampler.set_floating_image(image)\n",
    "    resampler.add_transformation(tm)\n",
    "    resampler.set_padding_value(0)\n",
    "    resampler.set_interpolation_type_to_linear()\n",
    "    \n",
    "    return resampler"
   ]
  },
  {
   "cell_type": "code",
   "execution_count": null,
   "metadata": {},
   "outputs": [],
   "source": [
    "# create different motion state\n",
    "rotations = [[-1.2,3.],[1.2,-3.],[0.,-5.], [.2,2.]]\n",
    "rotations = [ [10 * rot[0],rot[1]] for rot in rotations ]\n",
    "\n",
    "# resamplers = [ get_resampler('zy', rot, image, degrees=True) for rot in rotations ]\n",
    "resampler = get_resampler('zy', [-12.,30.], image, degrees=True) \n",
    "# create the new AcquisitionData for the motion states\n",
    "memocc = []\n",
    "\n",
    "\n",
    "def f(image):\n",
    "    step = resampler.direct(image)\n",
    "    out = resampler.adjoint(step)\n",
    "    return out\n",
    "\n",
    "for i in range(100):\n",
    "    # new ImageData\n",
    "    # step = resampler.direct(image)\n",
    "    # new AcquisitionData\n",
    "    out = resampler.adjoint(step)\n",
    "#     f(image)\n",
    "    if i % 10 == 0 and i > 0:\n",
    "        memocc.append(process.memory_percent())\n",
    "        print(i, memocc[-1], memocc[-1]/float(i))\n",
    "# del out\n",
    "\n",
    "\n",
    "id_old = None\n",
    "handle_old = None"
   ]
  },
  {
   "cell_type": "code",
   "execution_count": null,
   "metadata": {},
   "outputs": [],
   "source": [
    "for i in range(2):\n",
    "    out = f(image)\n",
    "print (resampler.handle)"
   ]
  },
  {
   "cell_type": "code",
   "execution_count": null,
   "metadata": {},
   "outputs": [],
   "source": [
    "print (type(step), type(image))\n",
    "\n",
    "import sirf\n",
    "\n",
    "print (isinstance (step, sirf.SIRF.ImageData))"
   ]
  },
  {
   "cell_type": "code",
   "execution_count": null,
   "metadata": {},
   "outputs": [],
   "source": [
    "import sys\n",
    "\n",
    "step = resampler.direct(image)\n",
    "ids.append((id(step), step.handle))\n",
    "for i in ids:\n",
    "    print (i)\n",
    "\n",
    "\n",
    "print (sys.getrefcount(step))\n",
    "#out = resampler.adjoint (step)\n",
    "    \n"
   ]
  },
  {
   "cell_type": "code",
   "execution_count": null,
   "metadata": {},
   "outputs": [],
   "source": [
    "for i, handle in ids:\n",
    "    print (\"trying to delete handle\", handle)\n",
    "    #pyiutil.deleteDataHandle(handle)\n",
    "    step.__del__()\n",
    "# out = resampler.adjoint(step)\n",
    "# print (id (out))\n",
    "# print (out.handle)"
   ]
  },
  {
   "cell_type": "code",
   "execution_count": null,
   "metadata": {},
   "outputs": [],
   "source": []
  },
  {
   "cell_type": "code",
   "execution_count": null,
   "metadata": {},
   "outputs": [],
   "source": [
    "memocc2 = []\n",
    "step = am.direct(image)\n",
    "out = am.adjoint(step)\n",
    "\n",
    "for i in range(101):\n",
    "    # new ImageData\n",
    "    am.direct(image, out=step)\n",
    "    # new AcquisitionData\n",
    "    am.adjoint(step, out=out)\n",
    "    if i % 100 == 0 and i > 0:\n",
    "        memocc2.append(process.memory_percent())\n",
    "        print(i, memocc2[-1], (memocc2[-1])/float(i))"
   ]
  },
  {
   "cell_type": "code",
   "execution_count": null,
   "metadata": {},
   "outputs": [],
   "source": [
    "import numpy\n",
    "\n",
    "class A(object):\n",
    "    def __init__(self,array,parent):\n",
    "        self.array = array.copy()\n",
    "        self.parent = parent\n",
    "        print (\"calling __init__ {}\".format(self.__class__.__name__))\n",
    "        \n",
    "    def __del__(self):\n",
    "        print (\"calling __del__ {}\".format(self.__class__.__name__))\n",
    "        \n",
    "    def direct(self,x):\n",
    "        return type(self)(self.array + x, id(self.array))\n",
    "    \n",
    "class B(A):\n",
    "    def __init__(self, array):\n",
    "        super(B,self).__init__(array)\n",
    "        self.a = A(array,id(array))"
   ]
  },
  {
   "cell_type": "code",
   "execution_count": null,
   "metadata": {},
   "outputs": [],
   "source": [
    "aa = A(numpy.zeros(shape=(10,10)), None)\n",
    "x = numpy.ones(shape = (10,10))\n",
    "\n",
    "bb = B(numpy.zeros(shape=(10,10)),1)"
   ]
  },
  {
   "cell_type": "code",
   "execution_count": null,
   "metadata": {},
   "outputs": [],
   "source": [
    "b = aa.direct(x)\n",
    "c = bb.direct(x)"
   ]
  },
  {
   "cell_type": "code",
   "execution_count": null,
   "metadata": {},
   "outputs": [],
   "source": [
    "import weakref\n",
    "class FooType(object):\n",
    "    def __init__(self, did, parent):\n",
    "        self.id = did\n",
    "        self.parent = parent\n",
    "        print 'Foo', self.id, 'born'\n",
    "\n",
    "    def __del__(self):\n",
    "        print 'Foo', self.id, 'died'\n",
    "\n",
    "\n",
    "class BarType(object):\n",
    "    def __init__(self, did):\n",
    "        self.id = did\n",
    "        #self.foo = weakref.ref( FooType(did, self) )\n",
    "        self.foo = FooType(id, self)\n",
    "        print 'Bar', self.id, 'born'\n",
    "\n",
    "    def __del__(self):\n",
    "        print 'Bar', self.id, 'died'\n",
    "    def __str__(self):\n",
    "        return \"{} id {}\".format(self.__class__.__name__ , self.id)\n",
    "\n",
    "\n",
    "b = BarType(12)\n",
    "#b=0\n",
    "print (b)"
   ]
  },
  {
   "cell_type": "code",
   "execution_count": null,
   "metadata": {},
   "outputs": [],
   "source": [
    "print (b)"
   ]
  },
  {
   "cell_type": "code",
   "execution_count": null,
   "metadata": {},
   "outputs": [],
   "source": [
    "image"
   ]
  },
  {
   "cell_type": "code",
   "execution_count": null,
   "metadata": {},
   "outputs": [],
   "source": [
    "i2 = image.copy()\n"
   ]
  }
 ],
 "metadata": {
  "kernelspec": {
   "display_name": "Python 2",
   "language": "python",
   "name": "python2"
  },
  "language_info": {
   "codemirror_mode": {
    "name": "ipython"
   },
   "file_extension": ".py",
   "mimetype": "text/x-python",
   "name": "python",
   "nbconvert_exporter": "python"
  }
 },
 "nbformat": 4,
 "nbformat_minor": 2
}
