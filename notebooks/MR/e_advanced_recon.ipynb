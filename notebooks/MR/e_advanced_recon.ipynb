{
 "cells": [
  {
   "cell_type": "markdown",
   "id": "7f137cc1",
   "metadata": {},
   "source": [
    "# Using Scipy Solvers for MR Reconstruction with SIRF\n",
    "\n",
    "This demo is a 'script', i.e. intended to be run step by step in a\n",
    "Python notebook such as Jupyter. It is organised in 'cells'. Jupyter displays these\n",
    "cells nicely and allows you to run each cell on its own.\n",
    "\n",
    "### Learning objective\n",
    "This notebook is intended to give you the basis to implement iterative MR reconstruction algorithms using SIRF.\n",
    "\n",
    "By the end of this notebook you will know how to\n",
    "- define an objective function and its gradient using the SIRF MR acquisition models\n",
    "- call a scipy-solver to optimise the objective function.\n",
    "\n",
    "Of course, you can use CIL optimisers as opposed to scipy, but that is for another notebook."
   ]
  },
  {
   "cell_type": "markdown",
   "id": "7a58df73",
   "metadata": {},
   "source": [
    "First version: 21st of May 2021\n",
    "Author: Johannes Mayer\n",
    "\n",
    "CCP SyneRBI Synergistic Image Reconstruction Framework (SIRF).  \n",
    "Copyright 2015 - 2021 Rutherford Appleton Laboratory STFC.  \n",
    "Copyright 2015 - 2021 University College London.  \n",
    "Copyright 2015 - 2021 Physikalisch-Technische Bundesanstalt.\n",
    "\n",
    "This is software developed for the Collaborative Computational Project in Synergistic Reconstruction for Biomedical Imaging \n",
    "(http://www.ccpsynerbi.ac.uk/).\n",
    "\n",
    "SPDX-License-Identifier: Apache-2.0"
   ]
  },
  {
   "cell_type": "code",
   "execution_count": null,
   "id": "2d23dd2c",
   "metadata": {},
   "outputs": [],
   "source": [
    "#%% make sure figures appears inline and animations works\n",
    "%matplotlib widget\n",
    "\n",
    "# Setup the working directory for the notebook\n",
    "import notebook_setup\n",
    "from sirf_exercises import cd_to_working_dir\n",
    "cd_to_working_dir('MR', 'e_advanced_recon')"
   ]
  },
  {
   "cell_type": "code",
   "execution_count": null,
   "id": "8a2b477e",
   "metadata": {},
   "outputs": [],
   "source": [
    "__version__ = '0.1.1'\n",
    "\n",
    "# import engine module\n",
    "import sirf.Gadgetron as pMR\n",
    "\n",
    "# import further modules\n",
    "import os, numpy as np\n",
    "\n",
    "import matplotlib.pyplot as plt\n",
    "import matplotlib.animation as animation\n",
    "\n",
    "from IPython.display import HTML"
   ]
  },
  {
   "cell_type": "code",
   "execution_count": null,
   "id": "aec5c891",
   "metadata": {},
   "outputs": [],
   "source": [
    "from sirf_exercises import exercises_data_path\n",
    "data_path = exercises_data_path('MR', 'PTB_ACRPhantom_GRAPPA')"
   ]
  },
  {
   "cell_type": "markdown",
   "id": "7d624e18",
   "metadata": {},
   "source": [
    "#### Auxiliary functions\n",
    "To facilitate plotting "
   ]
  },
  {
   "cell_type": "code",
   "execution_count": null,
   "id": "c0713d44",
   "metadata": {},
   "outputs": [],
   "source": [
    "# This is just an auxiliary function\n",
    "def norm_array( arr ):\n",
    "    arr = np.squeeze(arr)\n",
    "    min_a = abs(arr).min()\n",
    "    max_a = abs(arr).max()\n",
    "    if (max_a-min_a) < np.finfo(np.float32).eps:\n",
    "        return arr\n",
    "    else:\n",
    "        return (arr - min_a)/(max_a - min_a)\n"
   ]
  },
  {
   "cell_type": "code",
   "execution_count": null,
   "id": "16677824",
   "metadata": {},
   "outputs": [],
   "source": [
    "# LOADING AND PREPROCESSING DATA FOR THIS SET\n",
    "filename_grappa_file = os.path.join(data_path, 'ptb_resolutionphantom_GRAPPA4_ismrmrd.h5')\n",
    "acq_data = pMR.AcquisitionData(filename_grappa_file)\n",
    "preprocessed_data = pMR.preprocess_acquisition_data(acq_data)\n",
    "preprocessed_data.sort()\n",
    "print(\"Number of acquisitions is {}\".format(preprocessed_data.number()))"
   ]
  },
  {
   "cell_type": "code",
   "execution_count": null,
   "id": "ad63e5a5",
   "metadata": {},
   "outputs": [],
   "source": [
    "# WE DO A GRAPPA RECONSTRUCTION USING SIRF\n",
    "\n",
    "recon = pMR.CartesianGRAPPAReconstructor()\n",
    "recon.set_input(preprocessed_data)\n",
    "recon.compute_gfactors(False)\n",
    "print('---\\n reconstructing...')\n",
    "\n",
    "recon.process()\n",
    "# for undersampled acquisition data GRAPPA computes Gfactor images\n",
    "# in addition to reconstructed ones\n",
    "grappa_images = recon.get_output()"
   ]
  },
  {
   "cell_type": "markdown",
   "id": "19cbb164",
   "metadata": {},
   "source": [
    "### Generation of an aquisition model\n",
    "As before we want to construct an `AcquisitionModel` which has methods for both the simulation of the acquisition process, as well as its adjoint operation."
   ]
  },
  {
   "cell_type": "code",
   "execution_count": null,
   "id": "a0c6dc7d",
   "metadata": {},
   "outputs": [],
   "source": [
    "# First we generate different channels\n",
    "csm = pMR.CoilSensitivityData()\n",
    "csm.smoothness = 10\n",
    "csm.calculate(preprocessed_data)"
   ]
  },
  {
   "cell_type": "code",
   "execution_count": null,
   "id": "5450853b",
   "metadata": {},
   "outputs": [],
   "source": [
    "# Now we have enough information to set up our model\n",
    "E = pMR.AcquisitionModel(preprocessed_data, grappa_images)\n",
    "E.set_coil_sensitivity_maps(csm)\n"
   ]
  },
  {
   "cell_type": "code",
   "execution_count": null,
   "id": "d4b85fdd",
   "metadata": {},
   "outputs": [],
   "source": [
    "# Now we can hop back from k-space into image space in just one line:\n",
    "bwd_img = E.backward( preprocessed_data )\n"
   ]
  },
  {
   "cell_type": "code",
   "execution_count": null,
   "id": "3570d8d3",
   "metadata": {},
   "outputs": [],
   "source": [
    "# PLOT THE RESULTS\n",
    "grappa_img_arr = norm_array(grappa_images.as_array())\n",
    "bwd_img_arr = norm_array(bwd_img.as_array())\n",
    "\n",
    "fig = plt.figure(figsize=(9, 4))\n",
    "plt.set_cmap('gray')\n",
    "\n",
    "ax = fig.add_subplot(1,2,1)\n",
    "ax.imshow(abs(grappa_img_arr), vmin=0, vmax=1)\n",
    "ax.set_title('Result of GRAPPA Reconstruction')\n",
    "ax.axis('off')\n",
    "\n",
    "ax = fig.add_subplot(1,2,2)\n",
    "ax.imshow(abs(bwd_img_arr), vmin=0, vmax=1)\n",
    "ax.set_title('Result of AcquisitionModel.backward()')\n",
    "ax.axis('off')\n",
    "\n",
    "plt.tight_layout()"
   ]
  },
  {
   "cell_type": "markdown",
   "id": "dddb22f7",
   "metadata": {},
   "source": [
    "### With the AcquisitionModel we can use solvers provided by Python\n",
    "We want to use existing implementations of optimisation algorithms in `scipy.optimize.minimize` to solve our reconstruction problem:\n",
    "\n"
   ]
  },
  {
   "cell_type": "code",
   "execution_count": null,
   "id": "4a37be74",
   "metadata": {},
   "outputs": [],
   "source": [
    "%%html\n",
    "<iframe src=\"https://docs.scipy.org/doc/scipy/reference/generated/scipy.optimize.minimize.html\" width=\"1000\" height=\"800\"></iframe>"
   ]
  },
  {
   "cell_type": "markdown",
   "id": "b96d1c1d",
   "metadata": {},
   "source": [
    "### Take-home messages from reading their documentation:\n",
    "\n",
    "- `scipy.optimize.minimize` will minimize the function `fun(x, *args)` with respect to  `x`, i.e. find a solution to the problem $\\hat{x} = \\min_{x} C(x)$\n",
    "\n",
    "- `x = array_like, shape (n,)` is REAL valued (which is a bit of a bummer because our beautiful MR images are complex valued)\n",
    "\n",
    "\n",
    "We need to give it a list of arguments\n",
    "\n",
    "- You need to supply the objective function `fun(x,*args) -> float`.\n",
    "- You need to at least supply the gradient of the objective function `jac(x, *args) -> array_like, shape (n,)`\n",
    "- Since `x` is real data we need to split our complex images into two channels: `[img] = [real(img), imag(img)]`\n",
    "\n",
    "Our cost function is:\n",
    "- $C(x) = \\frac{1}{2}\\lVert E x - y \\rVert_2$ \n",
    "- $dC(x) = E^H (Ex - y)$  "
   ]
  },
  {
   "cell_type": "markdown",
   "id": "1878c1f4",
   "metadata": {},
   "source": [
    "### TASK: Program the splitting of real and imaginary part\n",
    "\n",
    "Setup: The AcquisitionModel provides SIRF objects. We get and set the data using the methods `as_array()` and `fill()`.\n",
    "\n",
    "Problem: We need to split the data into real and imaginary part, s.t. we only supply real-valued arrays to `scipy`.\n",
    "\n",
    "Task: write the code for the two functions in the cell below to split complex valued arrays into one twice-as-long\n",
    "\n",
    "\n",
    "Hint 1: this can be achieved using the methods `np.concatenate`, `np.split`, `np.real`, `np.imag`, and the `array.flatten()` methods.\n",
    "\n",
    "Hint 2: All arrays need to be flattened, i.e. of shape `(n,)` since that's what `scipy` requires. So no need to worry about shapes, when we use `fill()` SIRF will track the shape for us.\n"
   ]
  },
  {
   "cell_type": "code",
   "execution_count": null,
   "id": "00c3de71",
   "metadata": {},
   "outputs": [],
   "source": [
    "# WRITE YOUR FUNCTIONS HERE:\n",
    "import scipy.optimize as optimize\n",
    "\n",
    "def split_complex_to_real(data):\n",
    "    pass # replace the word pass with your code\n",
    "\n",
    "\n",
    "def merge_real_to_complex(data):\n",
    "    pass # replace the word pass with your code\n"
   ]
  },
  {
   "cell_type": "code",
   "execution_count": null,
   "id": "e2248769",
   "metadata": {},
   "outputs": [],
   "source": [
    "# SOLUTION CELL, TRY IT FIRST ON YOUR OWN THOUGH\n",
    "\n",
    "\n",
    "\n",
    "\n",
    "\n",
    "\n",
    "\n",
    "\n",
    "\n",
    "\n",
    "\n",
    "\n",
    "\n",
    "\n",
    "\n",
    "\n",
    "\n",
    "\n",
    "\n",
    "\n",
    "\n",
    "\n",
    "\n",
    "\n",
    "\n",
    "\n",
    "\n",
    "\n",
    "\n",
    "\n",
    "\n",
    "\n",
    "\n",
    "\n",
    "import scipy.optimize as optimize\n",
    "\n",
    "def split_complex_to_real(data):\n",
    "    \n",
    "    data = np.concatenate( (np.real(data.flatten()), np.imag(data.flatten())))\n",
    "    return data.astype(np.float64)\n",
    "\n",
    "def merge_real_to_complex(data):\n",
    "    data = data.astype(np.float64)\n",
    "    data = np.split(data,2)\n",
    "    return data[0] + 1j*data[1]\n",
    "\n"
   ]
  },
  {
   "cell_type": "markdown",
   "id": "6a93c28c",
   "metadata": {},
   "source": [
    "### TASK: Program the splitting of real and imaginary part\n",
    "\n",
    "#### Setup: \n",
    "The objective function `fun(x, *args)` takes `x` as the argument, and all the other arguments are passed in `*args`\n",
    "\n",
    "#### Problem: \n",
    "None so far.\n",
    "\n",
    "#### Task:\n",
    "Write the code for the cost function and it's graident in the cells below. Maybe, first, think of all variables except for `x` that are involved in the computation of `C(x)` and `dC(x)` and pass them using `args`.\n",
    "\n",
    "\n",
    "#### Hints:\n",
    "- Check the minimal example below to familiarise yourself with the way how to pass `args` to a function. The objects in the `args` tuple can be of any type.\n",
    "\n",
    "- keep in mind, that `scipy` will use  the same variable for `args` in both cost function and gradient.\n",
    "\n",
    "- make sure to use the splitting and merging of complex data inside the functions.\n",
    "\n",
    "- The acquisition model needs SIRF objects, so you need to use `fill()` and `as_array()` to get and set the data.\n",
    "\n",
    "\n"
   ]
  },
  {
   "cell_type": "code",
   "execution_count": null,
   "id": "4bca5a04",
   "metadata": {},
   "outputs": [],
   "source": [
    "# Minimal example using the *args syntax\n",
    "num_fruit = 15\n",
    "name_fruit = \"Chicken\"\n",
    "x = np.zeros((3,3))\n",
    "\n",
    "def fun(x, *args):\n",
    "    \n",
    "    fruit_number = args[0]\n",
    "    fruit_type = args[1]\n",
    "    \n",
    "    message = \\\n",
    "    \"Our x is of type {}, and shape {}. We have {} things that are called <{}>.\\n \" \\\n",
    "    \"The objects don't need to be strings and integers, but can be anything, e.g. an acquisition model or rawdata.'\"\\\n",
    "    .format(type(x), x.shape, fruit_number, fruit_type) \n",
    "    \n",
    "    print(message)                    \n",
    "\n",
    "extra_arguments = (num_fruit, name_fruit)        \n",
    "fun(x, *extra_arguments)\n",
    "        "
   ]
  },
  {
   "cell_type": "code",
   "execution_count": null,
   "id": "f587cf56",
   "metadata": {},
   "outputs": [],
   "source": [
    "def objective(x, *args):\n",
    "    assert len(args)==3, \"Please give three arguments only\"\n",
    "    pass # replace pass by your code\n",
    "\n",
    "def grad_objective(x, *args):\n",
    "    \n",
    "    assert len(args)==3, \"Please give three arguments only\"\n",
    "    pass # replace pass by your code"
   ]
  },
  {
   "cell_type": "code",
   "execution_count": null,
   "id": "30242826",
   "metadata": {},
   "outputs": [],
   "source": [
    "# SOLUTION CELL, TRY IT FIRST ON YOUR OWN THOUGH\n",
    "\n",
    "\n",
    "\n",
    "\n",
    "\n",
    "\n",
    "\n",
    "\n",
    "\n",
    "\n",
    "\n",
    "\n",
    "\n",
    "\n",
    "\n",
    "\n",
    "\n",
    "\n",
    "\n",
    "\n",
    "\n",
    "\n",
    "\n",
    "\n",
    "\n",
    "\n",
    "\n",
    "\n",
    "\n",
    "\n",
    "\n",
    "\n",
    "\n",
    "\n",
    "\n",
    "\n",
    "\n",
    "\n",
    "\n",
    "\n",
    "\n",
    "\n",
    "\n",
    "def objective(x, *args):\n",
    "    \n",
    "    \n",
    "    assert len(args)==3, \"Please give three arguments only\"\n",
    "    E = args[0]\n",
    "    i = args[1]\n",
    "    y = args[2]\n",
    "    \n",
    "    data = merge_real_to_complex(x)\n",
    "    i = i.fill(data)\n",
    "    \n",
    "    c =  E.forward(i)-y\n",
    "    return 0.5 * c.norm() ** 2\n",
    "\n",
    "def grad_objective(x, *args):\n",
    "    \n",
    "    assert len(args)==3, \"Please give three arguments only\"\n",
    "    E = args[0]\n",
    "    i = args[1]\n",
    "    y = args[2]\n",
    "    \n",
    "    data = merge_real_to_complex(x)\n",
    "    i = i.fill(data)    \n",
    "    \n",
    "    dObj = E.backward(E.forward(i) - y)\n",
    "    dObj = dObj.as_array().flatten()\n",
    "    \n",
    "    return split_complex_to_real(dObj)"
   ]
  },
  {
   "cell_type": "code",
   "execution_count": null,
   "id": "e290167d",
   "metadata": {},
   "outputs": [],
   "source": [
    "# fix some extra arguments\n",
    "\n",
    "# normalising the rawdata\n",
    "y = preprocessed_data\n",
    "y = np.sqrt(2) * y / y.norm() # this means that C(x=0) = 1\n",
    "\n",
    "print(\"The norm of our k-space data is: {}\".format(y.norm()))\n",
    "\n",
    "template_img = grappa_images.copy()\n",
    "\n",
    "extra_args = (E, template_img, y)\n",
    "\n"
   ]
  },
  {
   "cell_type": "markdown",
   "id": "8582fde7",
   "metadata": {},
   "source": [
    "### TASK: Check if your gradient is correct\n",
    "\n",
    "Problem: We don't know if the objective function and its gradient are correct.\n",
    "\n",
    "Setup: But we do know that:\n",
    "\n",
    "- we normed our rawdata s.t. $C(x=0)=1$ \n",
    "- we can see that such that $dC(x=0) =E^H (E(0) - y) = -E^H y$. That means, the gradient of the objective at zero-image is the backward of the rawdata, i.e. the zero-filled reconstruction)\n",
    "\n",
    "Task: evaluate both \n",
    "\n",
    "Hint: keep in mind that both functions expect a real-valued array."
   ]
  },
  {
   "cell_type": "code",
   "execution_count": null,
   "id": "8eea2e8a",
   "metadata": {},
   "outputs": [],
   "source": [
    "# set the start value\n",
    "img = grappa_images.copy()\n",
    "img.fill(0.0 + 1j*0.0);"
   ]
  },
  {
   "cell_type": "code",
   "execution_count": null,
   "id": "f434da83",
   "metadata": {},
   "outputs": [],
   "source": [
    "# call the correct methods\n",
    "x0 = pass # keep it real!\n",
    "grad0 = pass \n",
    "x0 = pass"
   ]
  },
  {
   "cell_type": "code",
   "execution_count": null,
   "id": "2812314e",
   "metadata": {},
   "outputs": [],
   "source": [
    "#SOLUTION CELL: DON'T RUN IF YOU DIDN'T TRY!\n",
    "\n",
    "\n",
    "\n",
    "\n",
    "\n",
    "\n",
    "\n",
    "\n",
    "\n",
    "\n",
    "\n",
    "\n",
    "\n",
    "\n",
    "\n",
    "\n",
    "\n",
    "\n",
    "\n",
    "\n",
    "\n",
    "\n",
    "\n",
    "\n",
    "\n",
    "\n",
    "\n",
    "\n",
    "\n",
    "\n",
    "\n",
    "\n",
    "\n",
    "\n",
    "\n",
    "\n",
    "\n",
    "\n",
    "\n",
    "\n",
    "\n",
    "\n",
    "\n",
    "# compute the gradient at img=0 and initialize the reconstruction with that image\n",
    "x0 = split_complex_to_real(img.as_array().flatten().copy())\n",
    "grad0 = grad_objective(x0, *extra_args)\n",
    "x0 = grad0 "
   ]
  },
  {
   "cell_type": "code",
   "execution_count": null,
   "id": "471b95b5",
   "metadata": {},
   "outputs": [],
   "source": [
    "c0 = objective(x0, *extra_args)\n",
    "print(\"Objective function start is: {}\".format((c0)))\n",
    "\n",
    "# Plotting the result\n",
    "img.fill(-1*merge_real_to_complex( np.reshape(x0, (2,)+img.shape[1:])))\n",
    "\n",
    "fig = plt.figure(figsize=(9, 4))\n",
    "plt.set_cmap('gray')\n",
    "\n",
    "ax = fig.add_subplot(1,1,1)\n",
    "ax.imshow(norm_array(np.abs(img.as_array())), vmin=0, vmax=1)\n",
    "ax.set_title('Gradient of the cost function at x0=0')\n",
    "ax.axis('off')"
   ]
  },
  {
   "cell_type": "code",
   "execution_count": null,
   "id": "0e57653a",
   "metadata": {},
   "outputs": [],
   "source": [
    "# run the scipy optimiser\n",
    "cg_tol = 0 \n",
    "cg_iter = 10\n",
    "extra_options = {\"maxiter\": cg_iter, \"disp\": True, \"gtol\":cg_tol} # just some options to give to the optimiser\n",
    "\n",
    "res = optimize.minimize(objective, x0, args=extra_args, method='CG', jac=grad_objective, options=extra_options)\n",
    "\n",
    "res = np.reshape(res.x, (2,) + img.shape[1:])\n",
    "res = merge_real_to_complex(res)\n",
    "\n",
    "img = img.fill(res)"
   ]
  },
  {
   "cell_type": "markdown",
   "id": "aee7ef66",
   "metadata": {},
   "source": [
    "Let's display the result"
   ]
  },
  {
   "cell_type": "code",
   "execution_count": null,
   "id": "119d5daa",
   "metadata": {},
   "outputs": [],
   "source": [
    "fig = plt.figure(figsize=(9, 4))\n",
    "plt.set_cmap('gray')\n",
    "\n",
    "ax = fig.add_subplot(1,1,1)\n",
    "ax.imshow(norm_array(np.abs(img.as_array())), vmin=0, vmax=1)\n",
    "ax.set_title('Result of the optimisation')\n",
    "ax.axis('off')"
   ]
  },
  {
   "cell_type": "markdown",
   "id": "8124f76f",
   "metadata": {},
   "source": [
    "#### Salut! We hope you enjoyed this notebook.\n"
   ]
  }
 ],
 "metadata": {
  "kernelspec": {
   "display_name": "Python 3",
   "language": "python",
   "name": "python3"
  },
  "language_info": {
   "codemirror_mode": {
    "name": "ipython"
   },
   "file_extension": ".py",
   "mimetype": "text/x-python",
   "name": "python",
   "nbconvert_exporter": "python"
  }
 },
 "nbformat": 4,
 "nbformat_minor": 5
}
