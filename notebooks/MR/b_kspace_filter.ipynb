{
 "cells": [
  {
   "cell_type": "markdown",
   "metadata": {},
   "source": [
    "# Filtering of MR k-space\n",
    "\n",
    "This demonstration shows how to reconstruct MR images and how to apply filters \n",
    "in k-space.\n",
    "\n",
    "This demo is a 'script', i.e. intended to be run step by step in a\n",
    "Python notebook such as Jupyter. It is organised in 'cells'. Jupyter displays these\n",
    "cells nicely and allows you to run each cell on its own."
   ]
  },
  {
   "cell_type": "markdown",
   "metadata": {},
   "source": [
    "First version: 27th of May 2017  \n",
    "Updated: 26nd of June 2021  \n",
    "Author: Christoph Kolbitsch, Johannes Mayer\n",
    "\n",
    "CCP SyneRBI Synergistic Image Reconstruction Framework (SIRF).  \n",
    "Copyright 2015 - 2017 Rutherford Appleton Laboratory STFC.  \n",
    "Copyright 2015 - 2017 University College London.  \n",
    "Copyright 2015 - 2017, 2019, 2021 Physikalisch-Technische Bundesanstalt.\n",
    "\n",
    "This is software developed for the Collaborative Computational\n",
    "Project in Positron Emission Tomography and Magnetic Resonance imaging\n",
    "(http://www.ccppetmr.ac.uk/).\n",
    "\n",
    "SPDX-License-Identifier: Apache-2.0"
   ]
  },
  {
   "cell_type": "code",
   "execution_count": null,
   "metadata": {},
   "outputs": [],
   "source": [
    "#%% make sure figures appears inline and animations works\n",
    "%matplotlib widget\n",
    "\n",
    "# Setup the working directory for the notebook\n",
    "import notebook_setup\n",
    "from sirf_exercises import cd_to_working_dir\n",
    "cd_to_working_dir('MR', 'b_kspace_filter')"
   ]
  },
  {
   "cell_type": "code",
   "execution_count": null,
   "metadata": {},
   "outputs": [],
   "source": [
    "__version__ = '0.1.0'\n",
    "\n",
    "# import engine module\n",
    "import sirf.Gadgetron as pMR\n",
    "from sirf.Utilities import examples_data_path\n",
    "from sirf_exercises import exercises_data_path\n",
    "\n",
    "# import further modules\n",
    "import os, numpy\n",
    "\n",
    "import matplotlib.pyplot as plt"
   ]
  },
  {
   "cell_type": "markdown",
   "metadata": {},
   "source": [
    "### K-space Filtering\n",
    "#### Goals of this notebook:\n",
    "- Definition of our own function in Python.\n",
    "- Extraction of the k-space data stored in the AcquisitionData objects (so then we can play with them!).\n",
    "- Apply convolution theorem to filter image data.\n",
    "- Obtain a better understanding of the relationship between k-space and image space."
   ]
  },
  {
   "cell_type": "markdown",
   "metadata": {},
   "source": [
    "### Programming task\n",
    "Now it's time to apply some of our Python knowledge in a minimal programming exercise.\n",
    "Please write code which completes the following task:\n",
    "- create a variable named `acq_data` of the class `AcquisitionData` of the `pMR` package.\n",
    "- the file we want to load is called `ptb_resolutionphantom_fully_ismrmrd.h5`. Pass this string as the argument to the constructor of `AcquisitionData`.\n",
    "- create a variable named `kdim` and assign it the return value of the method  `dimensions` of `AcquisitionData`. `dimensions` does not take arguments.\n",
    "\n",
    "__Hint:__ Don't forget empty parenthesis if you call function without arguments!\n",
    "\n",
    "__Please make sure the variable names are as indicated.__"
   ]
  },
  {
   "cell_type": "code",
   "execution_count": null,
   "metadata": {},
   "outputs": [],
   "source": [
    "# YOUR CODE GOES HERE\n",
    "\n",
    "\n"
   ]
  },
  {
   "cell_type": "code",
   "execution_count": null,
   "metadata": {},
   "outputs": [],
   "source": [
    "# AS A TEST RUN THIS CELL:\n",
    "print('Size of k-space %dx%dx%d' % kdim)"
   ]
  },
  {
   "cell_type": "code",
   "execution_count": null,
   "metadata": {},
   "outputs": [],
   "source": [
    "# SOLUTION CELL.\n",
    "# DON'T RUN UNLESS YOU TRIED TO WRITE YOUR OWN CODE FIRST.\n",
    "\n",
    "\n",
    "\n",
    "\n",
    "\n",
    "\n",
    "\n",
    "\n",
    "\n",
    "\n",
    "\n",
    "\n",
    "\n",
    "\n",
    "\n",
    "\n",
    "\n",
    "\n",
    "\n",
    "\n",
    "\n",
    "\n",
    "\n",
    "\n",
    "\n",
    "\n",
    "\n",
    "\n",
    "\n",
    "\n",
    "\n",
    "\n",
    "data_path = exercises_data_path('MR', 'PTB_ACRPhantom_GRAPPA')\n",
    "filename = os.path.join(data_path, 'ptb_resolutionphantom_fully_ismrmrd.h5')\n",
    "acq_data = pMR.AcquisitionData(filename)\n",
    "\n",
    "kdim = acq_data.dimensions()\n",
    "print('Size of k-space %dx%dx%d' % kdim)"
   ]
  },
  {
   "cell_type": "markdown",
   "metadata": {},
   "source": [
    "### Question Data Dimensions:\n",
    "- Have a quick guess which of the different data dimensions represent\n",
    " - frequency encoding\n",
    " - phase encoding\n",
    " - receiver channels / coils "
   ]
  },
  {
   "cell_type": "code",
   "execution_count": null,
   "metadata": {},
   "outputs": [],
   "source": [
    "#%% PREPROCESS DATA \n",
    "# Remember, this will correct for asymmetric echoes, noise correlation and removal of readout oversampling.\n",
    "preprocessed_data = pMR.preprocess_acquisition_data(acq_data)\n",
    "\n",
    "# Get size of k-space data after removal of oversampling\n",
    "kdim = preprocessed_data.dimensions()\n",
    "print('Size of k-space %dx%dx%d' % kdim)"
   ]
  },
  {
   "cell_type": "markdown",
   "metadata": {},
   "source": [
    "As you can see half of the data points in the last dimension were removed. This is the removal of oversampling in frequency encoding (also called readout direction) to avoid reconstructing parts of the FOV we are not interested in."
   ]
  },
  {
   "cell_type": "markdown",
   "metadata": {},
   "source": [
    "### Image Filter\n",
    "To filter our image we can use the [convolution theorem](https://en.wikipedia.org/wiki/Convolution_theorem).  \n",
    "It states that for two functions $f, g$ and their Fourier transforms $F = \\mathcal{F}(f), G = \\mathcal{F}(g)$ the following relation holds:  \n",
    "\n",
    "$$ \n",
    "\\mathcal{F}(f * g) = F \\cdot G\n",
    "$$\n",
    "\n",
    "\"Filtering an image\" means to perform a convolution of the image with a filter function. This will weight each image pixel with it's neighbouring pixels by weight of the filter.  \n",
    "For example smoothing with a Gaussian filter will average each pixel with its neighbors weighted by a Gaussian $\\mathcal{G}\\propto e^{- \\frac{r^2}{\\sigma^2}}$ where $r$ is the distance to the neighbor, and $\\sigma$ is the width of the filter.\n",
    "\n",
    "Using the convolution theorem we don't need to actually convolve our image, we can simply multiply our k-space data with the Fourier transform of the filter and achieve the same effect."
   ]
  },
  {
   "cell_type": "markdown",
   "metadata": {},
   "source": [
    "### A note on Python programming\n",
    "To define our own function, Python requires the following syntax:\n",
    "```python\n",
    "def function_name(argument1, argument2, ..., argumentN):\n",
    "    something = code_that_does_something_with_arguments\n",
    "\n",
    "    return something\n",
    "``` \n",
    "__Indentation is important in Python!__  "
   ]
  },
  {
   "cell_type": "code",
   "execution_count": null,
   "metadata": {},
   "outputs": [],
   "source": [
    "#%% a definition of a Gaussian function\n",
    "# the numpy package is a powerful algebra package allowing for fast computations of multidimensional arrays\n",
    "def gaussian(x, mu, sigma):\n",
    "    return numpy.exp(-numpy.power(x - mu, 2.) / (2 * numpy.power(sigma, 2.)))\n",
    "\n",
    "\n",
    "show_lineplot = True"
   ]
  },
  {
   "cell_type": "code",
   "execution_count": null,
   "metadata": {},
   "outputs": [],
   "source": [
    "#%% CREATE K-SPACE FILTER\n",
    "# Set width of Gaussian weighting function\n",
    "sigma = 10.0\n",
    "\n",
    "kx_axis = numpy.array([numpy.linspace(-kdim[2]/2, kdim[2]/2, kdim[2])])\n",
    "\n",
    "\n",
    "# We call our gaussian function\n",
    "gauss_1d = gaussian(kx_axis, 0, sigma)\n",
    "\n",
    "\n",
    "if show_lineplot is True:\n",
    "    fig = plt.figure()\n",
    "    ax = fig.add_subplot(1,1,1)\n",
    "    ax.plot(gauss_1d[0,:], linewidth=2.0)\n",
    "    ax.set_title('k-space weight')\n",
    "    plt.axis([50, 200, 0, 1])"
   ]
  },
  {
   "cell_type": "code",
   "execution_count": null,
   "metadata": {},
   "outputs": [],
   "source": [
    "# Extend 1D weighting function to 2D by repeating it along the phase encoding \n",
    "# dimension\n",
    "gauss_weight = numpy.tile(gauss_1d, (kdim[0], 1))"
   ]
  },
  {
   "cell_type": "code",
   "execution_count": null,
   "metadata": {},
   "outputs": [],
   "source": [
    "#%% APPLY K-SPACE FILTER\n",
    "# Retrieve k-space data\n",
    "preprocessed_data = pMR.preprocess_acquisition_data(acq_data)\n",
    "preprocessed_array = preprocessed_data.as_array()"
   ]
  },
  {
   "cell_type": "markdown",
   "metadata": {},
   "source": [
    "### Quick SIRF Hint:\n",
    "The method `as_array()` is very useful. This way one can extract the data from images or acquisition data, manipulate it and feed it back into the reconstruction later using the `fill()` method. We will see it very often today."
   ]
  },
  {
   "cell_type": "code",
   "execution_count": null,
   "metadata": {},
   "outputs": [],
   "source": [
    "# Apply 2D weighting function to each coil\n",
    "for c in range(kdim[1]):\n",
    "    preprocessed_array[:,c,:] = numpy.multiply(preprocessed_array[:,c,:], gauss_weight)\n",
    "\n",
    "# Update modified k-space data    \n",
    "preprocessed_data.fill(preprocessed_array) # fill(), there it is!"
   ]
  },
  {
   "cell_type": "code",
   "execution_count": null,
   "metadata": {},
   "outputs": [],
   "source": [
    "#%% RECONSTRUCT IMAGES\n",
    "recon = pMR.FullySampledReconstructor()\n",
    "recon.set_input(preprocessed_data)\n",
    "recon.process();"
   ]
  },
  {
   "cell_type": "code",
   "execution_count": null,
   "metadata": {},
   "outputs": [],
   "source": [
    "#%% RETRIEVE AND VIEW IMAGE\n",
    "image_data = recon.get_output()\n",
    "image_array = abs(image_data.as_array())\n",
    "image_array = image_array/image_array.max()\n",
    "\n",
    "fig = plt.figure(figsize=[9, 3])\n",
    "plt.set_cmap('gray')\n",
    "ax = fig.add_subplot(1,3,1)\n",
    "ax.imshow(image_array[0,:,:], vmin=0, vmax=0.7)\n",
    "ax.set_title('Filtered image, sigma= ' + str(sigma))\n",
    "ax.axis('off')\n",
    "\n",
    "ax = fig.add_subplot(1,3,2)\n",
    "ax.plot(image_array[0,50,:], linewidth=2.0)\n",
    "ax.set_title('Image value')\n",
    "ax.set_xlabel('Image x-position')\n",
    "plt.axis([50, 200, 0, 1])\n",
    "\n",
    "ax = fig.add_subplot(1,3,3)\n",
    "ax.plot(gauss_1d[0,:], linewidth=2.0)\n",
    "ax.set_title('K-space weight')\n",
    "ax.set_xlabel('Readout position')\n",
    "plt.axis([0, 255, 0, 1]);"
   ]
  },
  {
   "cell_type": "markdown",
   "metadata": {},
   "source": [
    "### Question:\n",
    "What happened compared to the dataset we looked at earlier?\n",
    "What are your expectations if you increase the width of the k-space weights?  \n",
    "For a __larger__ width, will the smoothing effect become:\n",
    "- stronger\n",
    "- or weaker?\n"
   ]
  },
  {
   "cell_type": "markdown",
   "metadata": {},
   "source": [
    "### Programming task\n",
    "Go back to the cell in which the filter width `sigma` is defined.\n",
    "- Vary `sigma` and run the all the subsequent cells to get an update of the plot.\n",
    "- view the resulting reconstructions \n",
    "- repeat this for just a couple of different `sigma` between 1 and 100."
   ]
  },
  {
   "cell_type": "markdown",
   "metadata": {},
   "source": [
    "### Question:\n",
    "What happens for:\n",
    "- larger filter widths?\n",
    "- smaller filter widths?\n",
    "\n",
    "Did this match your expectations?"
   ]
  },
  {
   "cell_type": "markdown",
   "metadata": {},
   "source": [
    "### Recap\n",
    "#### We just learned\n",
    "- to access data stored in AcquisitionData objects.\n",
    "- which data dimensions correspond to which encoding steps.\n",
    "- how to define a Python function.\n",
    "- about the convolution theorem.\n",
    "- to filter an image by weighting its k-space.\n",
    "- about the reciprocal nature of lengths in k-space and image space.\n"
   ]
  }
 ],
 "metadata": {
  "kernelspec": {
   "display_name": "Python 3",
   "language": "python",
   "name": "python3"
  },
  "language_info": {
   "codemirror_mode": {
    "name": "ipython"
   },
   "file_extension": ".py",
   "mimetype": "text/x-python",
   "name": "python",
   "nbconvert_exporter": "python"
  }
 },
 "nbformat": 4,
 "nbformat_minor": 1
}
