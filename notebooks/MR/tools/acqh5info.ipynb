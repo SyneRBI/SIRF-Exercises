{
 "cells": [
  {
   "cell_type": "code",
   "execution_count": null,
   "metadata": {},
   "outputs": [],
   "source": [
    "from sirf.Gadgetron import *\n",
    "import matplotlib.pyplot as plt\n",
    "\n",
    "# Select an ISMRMRD data file (k-space only)\n",
    "\n",
    "#data_file = 'simulated_MR_2D_cartesian.h5'\n",
    "#data_file = 'simulated_MR_2D_cartesian_Grappa2.h5'\n",
    "#data_file = 'grappa2_1rep.h5'\n",
    "#data_file = 'grappa2_6rep.h5'\n",
    "#data_path = petmr_data_path('mr')\n",
    "\n",
    "data_file = 'meas_2.h5'\n",
    "data_path = '/home/sirfuser/dryrun/data'\n",
    "\n",
    "# Check input and path names\n",
    "input_file = existing_filepath(data_path, data_file)\n",
    "\n",
    "# Create container for this acquisition data\n",
    "acq_cont = AcquisitionData(input_file)\n",
    "\n",
    "ec1 = acq_cont.get_ISMRMRD_info('kspace_encode_step_1')\n",
    "ec2 = acq_cont.get_ISMRMRD_info('kspace_encode_step_2')\n",
    "slc = acq_cont.get_ISMRMRD_info('slice')\n",
    "rep = acq_cont.get_ISMRMRD_info('repetition')\n",
    "\n",
    "%matplotlib widget\n",
    "\n",
    "plt.plot(ec1, label='enc 1')\n",
    "plt.plot(ec2, label='enc 2')\n",
    "plt.plot(slc, label='slice')\n",
    "plt.plot(10*rep, label='repetition*10')\n",
    "\n",
    "plt.xlabel('readout')\n",
    "plt.grid()\n",
    "plt.legend()\n"
   ]
  },
  {
   "cell_type": "code",
   "execution_count": null,
   "metadata": {},
   "outputs": [],
   "source": []
  }
 ],
 "metadata": {
  "kernelspec": {
   "language": "python"
  },
  "language_info": {
   "codemirror_mode": {
    "name": "ipython"
   },
   "file_extension": ".py",
   "mimetype": "text/x-python",
   "name": "python",
   "nbconvert_exporter": "python"
  }
 },
 "nbformat": 4,
 "nbformat_minor": 2
}
