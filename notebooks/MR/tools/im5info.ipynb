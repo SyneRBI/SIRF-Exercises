{
 "cells": [
  {
   "cell_type": "code",
   "execution_count": null,
   "metadata": {},
   "outputs": [],
   "source": [
    "from sirf.Gadgetron import *\n",
    "import matplotlib.pyplot as plt\n",
    "import h5py\n",
    "\n",
    "# Select an ISMRMRD h5 ouput (image) file \n",
    "\n",
    "data_file = 'meas_2_out.h5'\n",
    "data_path = '/home/sirfuser/dryrun/data'\n",
    "\n",
    "# Check input and path names\n",
    "input_file = existing_filepath(data_path, data_file)\n",
    "\n",
    "# print out h5 information\n",
    "def printname(name):\n",
    "        print name\n",
    "\n",
    "f = h5py.File(input_file, 'r')\n",
    "f.visit(printname)\n",
    "\n"
   ]
  },
  {
   "cell_type": "code",
   "execution_count": null,
   "metadata": {},
   "outputs": [],
   "source": [
    "# Read a dataset from list printed above, e.g.\n",
    "dset = f['2018-05-17 13:11:56/image_1/data']\n",
    "print(dset)\n"
   ]
  },
  {
   "cell_type": "code",
   "execution_count": null,
   "metadata": {},
   "outputs": [],
   "source": [
    "# Set output based on shape returned above\n",
    "img = dset[2,0,0,:,:]\n",
    "\n",
    "%matplotlib widget\n",
    "\n",
    "plt.imshow(img, cmap='gray')\n",
    "plt.colorbar()\n"
   ]
  }
 ],
 "metadata": {
  "kernelspec": {
   "language": "python"
  },
  "language_info": {
   "codemirror_mode": {
    "name": "ipython"
   },
   "file_extension": ".py",
   "mimetype": "text/x-python",
   "name": "python",
   "nbconvert_exporter": "python"
  }
 },
 "nbformat": 4,
 "nbformat_minor": 2
}
